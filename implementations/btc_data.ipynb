{
 "cells": [
  {
   "cell_type": "code",
   "execution_count": 1,
   "metadata": {},
   "outputs": [],
   "source": [
    "import yfinance as yf\n",
    "\n",
    "data = yf.Ticker(\"BTC-USD\")"
   ]
  },
  {
   "cell_type": "code",
   "execution_count": 2,
   "metadata": {},
   "outputs": [
    {
     "name": "stdout",
     "output_type": "stream",
     "text": [
      "DatetimeIndex(['2024-11-26 00:00:00+00:00'], dtype='datetime64[ns, UTC]', freq='D')\n"
     ]
    }
   ],
   "source": [
    "# Check missing date\n",
    "import pandas as pd\n",
    "history = data.history(period=\"1y\")\n",
    "missing_dates = pd.date_range(start=history.index.min(), end=history.index.max()).difference(history.index)\n",
    "print(missing_dates)"
   ]
  },
  {
   "cell_type": "code",
   "execution_count": 3,
   "metadata": {},
   "outputs": [
    {
     "data": {
      "text/html": [
       "<div>\n",
       "<style scoped>\n",
       "    .dataframe tbody tr th:only-of-type {\n",
       "        vertical-align: middle;\n",
       "    }\n",
       "\n",
       "    .dataframe tbody tr th {\n",
       "        vertical-align: top;\n",
       "    }\n",
       "\n",
       "    .dataframe thead th {\n",
       "        text-align: right;\n",
       "    }\n",
       "</style>\n",
       "<table border=\"1\" class=\"dataframe\">\n",
       "  <thead>\n",
       "    <tr style=\"text-align: right;\">\n",
       "      <th></th>\n",
       "      <th>Open</th>\n",
       "      <th>High</th>\n",
       "      <th>Low</th>\n",
       "      <th>Close</th>\n",
       "      <th>Volume</th>\n",
       "      <th>Dividends</th>\n",
       "      <th>Stock Splits</th>\n",
       "    </tr>\n",
       "    <tr>\n",
       "      <th>Date</th>\n",
       "      <th></th>\n",
       "      <th></th>\n",
       "      <th></th>\n",
       "      <th></th>\n",
       "      <th></th>\n",
       "      <th></th>\n",
       "      <th></th>\n",
       "    </tr>\n",
       "  </thead>\n",
       "  <tbody>\n",
       "    <tr>\n",
       "      <th>2023-11-27</th>\n",
       "      <td>37454.191406</td>\n",
       "      <td>37559.355469</td>\n",
       "      <td>36750.128906</td>\n",
       "      <td>37254.167969</td>\n",
       "      <td>19002925720</td>\n",
       "      <td>0.0</td>\n",
       "      <td>0.0</td>\n",
       "    </tr>\n",
       "    <tr>\n",
       "      <th>2023-11-28</th>\n",
       "      <td>37247.992188</td>\n",
       "      <td>38368.480469</td>\n",
       "      <td>36891.089844</td>\n",
       "      <td>37831.085938</td>\n",
       "      <td>21696137014</td>\n",
       "      <td>0.0</td>\n",
       "      <td>0.0</td>\n",
       "    </tr>\n",
       "    <tr>\n",
       "      <th>2023-11-29</th>\n",
       "      <td>37826.105469</td>\n",
       "      <td>38366.113281</td>\n",
       "      <td>37612.632812</td>\n",
       "      <td>37858.492188</td>\n",
       "      <td>20728546658</td>\n",
       "      <td>0.0</td>\n",
       "      <td>0.0</td>\n",
       "    </tr>\n",
       "    <tr>\n",
       "      <th>2023-11-30</th>\n",
       "      <td>37861.117188</td>\n",
       "      <td>38141.753906</td>\n",
       "      <td>37531.140625</td>\n",
       "      <td>37712.746094</td>\n",
       "      <td>18115982627</td>\n",
       "      <td>0.0</td>\n",
       "      <td>0.0</td>\n",
       "    </tr>\n",
       "    <tr>\n",
       "      <th>2023-12-01</th>\n",
       "      <td>37718.007812</td>\n",
       "      <td>38954.109375</td>\n",
       "      <td>37629.359375</td>\n",
       "      <td>38688.750000</td>\n",
       "      <td>23512784002</td>\n",
       "      <td>0.0</td>\n",
       "      <td>0.0</td>\n",
       "    </tr>\n",
       "  </tbody>\n",
       "</table>\n",
       "</div>"
      ],
      "text/plain": [
       "                    Open          High           Low         Close  \\\n",
       "Date                                                                 \n",
       "2023-11-27  37454.191406  37559.355469  36750.128906  37254.167969   \n",
       "2023-11-28  37247.992188  38368.480469  36891.089844  37831.085938   \n",
       "2023-11-29  37826.105469  38366.113281  37612.632812  37858.492188   \n",
       "2023-11-30  37861.117188  38141.753906  37531.140625  37712.746094   \n",
       "2023-12-01  37718.007812  38954.109375  37629.359375  38688.750000   \n",
       "\n",
       "                 Volume  Dividends  Stock Splits  \n",
       "Date                                              \n",
       "2023-11-27  19002925720        0.0           0.0  \n",
       "2023-11-28  21696137014        0.0           0.0  \n",
       "2023-11-29  20728546658        0.0           0.0  \n",
       "2023-11-30  18115982627        0.0           0.0  \n",
       "2023-12-01  23512784002        0.0           0.0  "
      ]
     },
     "execution_count": 3,
     "metadata": {},
     "output_type": "execute_result"
    }
   ],
   "source": [
    "# Change date format to yyyy-mm-dd\n",
    "history.index = history.index.strftime('%Y-%m-%d')\n",
    "history.head()"
   ]
  },
  {
   "cell_type": "code",
   "execution_count": 4,
   "metadata": {},
   "outputs": [],
   "source": [
    "history.to_csv('BTC-USD.csv')"
   ]
  }
 ],
 "metadata": {
  "kernelspec": {
   "display_name": "tf-env",
   "language": "python",
   "name": "python3"
  },
  "language_info": {
   "codemirror_mode": {
    "name": "ipython",
    "version": 3
   },
   "file_extension": ".py",
   "mimetype": "text/x-python",
   "name": "python",
   "nbconvert_exporter": "python",
   "pygments_lexer": "ipython3",
   "version": "3.12.7"
  }
 },
 "nbformat": 4,
 "nbformat_minor": 2
}
