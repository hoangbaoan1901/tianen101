{
 "cells": [
  {
   "cell_type": "markdown",
   "metadata": {},
   "source": [
    "# Libraries"
   ]
  },
  {
   "cell_type": "code",
   "execution_count": 1,
   "metadata": {},
   "outputs": [
    {
     "name": "stderr",
     "output_type": "stream",
     "text": [
      "2024-11-28 20:56:31.523654: I external/local_xla/xla/tsl/cuda/cudart_stub.cc:32] Could not find cuda drivers on your machine, GPU will not be used.\n",
      "2024-11-28 20:56:31.526673: I external/local_xla/xla/tsl/cuda/cudart_stub.cc:32] Could not find cuda drivers on your machine, GPU will not be used.\n",
      "2024-11-28 20:56:31.533969: E external/local_xla/xla/stream_executor/cuda/cuda_fft.cc:485] Unable to register cuFFT factory: Attempting to register factory for plugin cuFFT when one has already been registered\n",
      "2024-11-28 20:56:31.546562: E external/local_xla/xla/stream_executor/cuda/cuda_dnn.cc:8454] Unable to register cuDNN factory: Attempting to register factory for plugin cuDNN when one has already been registered\n",
      "2024-11-28 20:56:31.550081: E external/local_xla/xla/stream_executor/cuda/cuda_blas.cc:1452] Unable to register cuBLAS factory: Attempting to register factory for plugin cuBLAS when one has already been registered\n",
      "2024-11-28 20:56:31.560500: I tensorflow/core/platform/cpu_feature_guard.cc:210] This TensorFlow binary is optimized to use available CPU instructions in performance-critical operations.\n",
      "To enable the following instructions: AVX2 FMA, in other operations, rebuild TensorFlow with the appropriate compiler flags.\n",
      "2024-11-28 20:56:32.249829: W tensorflow/compiler/tf2tensorrt/utils/py_utils.cc:38] TF-TRT Warning: Could not find TensorRT\n"
     ]
    }
   ],
   "source": [
    "import numpy as np\n",
    "import pandas as pd\n",
    "import tensorflow as tf\n",
    "import matplotlib.pyplot as plt\n",
    "import seaborn as sns\n",
    "import sklearn\n",
    "from datetime import datetime, date\n",
    "from sklearn.metrics import r2_score"
   ]
  },
  {
   "cell_type": "markdown",
   "metadata": {},
   "source": [
    "# Input data - dropping date and bitcoin opening, high and low prices"
   ]
  },
  {
   "cell_type": "code",
   "execution_count": 2,
   "metadata": {},
   "outputs": [],
   "source": [
    "data = pd.read_csv('/home/hoangbaoan1901/Documents/information-system_UET/sem5/prdan/Homeworks/week-3-btl/datasets/jrfm-2156907-cleaned.csv')"
   ]
  },
  {
   "cell_type": "code",
   "execution_count": 3,
   "metadata": {},
   "outputs": [],
   "source": [
    "data['Date'] = pd.to_datetime(data['Date'])\n",
    "data = data[['Date', 'BTC_Close', 'BTC_High', 'BTC_Low', 'BTC_Open']]"
   ]
  },
  {
   "cell_type": "code",
   "execution_count": 4,
   "metadata": {},
   "outputs": [
    {
     "data": {
      "text/html": [
       "<div>\n",
       "<style scoped>\n",
       "    .dataframe tbody tr th:only-of-type {\n",
       "        vertical-align: middle;\n",
       "    }\n",
       "\n",
       "    .dataframe tbody tr th {\n",
       "        vertical-align: top;\n",
       "    }\n",
       "\n",
       "    .dataframe thead th {\n",
       "        text-align: right;\n",
       "    }\n",
       "</style>\n",
       "<table border=\"1\" class=\"dataframe\">\n",
       "  <thead>\n",
       "    <tr style=\"text-align: right;\">\n",
       "      <th></th>\n",
       "      <th>Date</th>\n",
       "      <th>BTC_Close</th>\n",
       "      <th>BTC_High</th>\n",
       "      <th>BTC_Low</th>\n",
       "      <th>BTC_Open</th>\n",
       "    </tr>\n",
       "  </thead>\n",
       "  <tbody>\n",
       "    <tr>\n",
       "      <th>0</th>\n",
       "      <td>2015-08-07</td>\n",
       "      <td>279.584991</td>\n",
       "      <td>280.391998</td>\n",
       "      <td>276.365997</td>\n",
       "      <td>278.740997</td>\n",
       "    </tr>\n",
       "    <tr>\n",
       "      <th>1</th>\n",
       "      <td>2015-08-08</td>\n",
       "      <td>260.997009</td>\n",
       "      <td>279.928009</td>\n",
       "      <td>260.709991</td>\n",
       "      <td>279.742004</td>\n",
       "    </tr>\n",
       "    <tr>\n",
       "      <th>2</th>\n",
       "      <td>2015-08-09</td>\n",
       "      <td>265.083008</td>\n",
       "      <td>267.002991</td>\n",
       "      <td>260.467987</td>\n",
       "      <td>261.115997</td>\n",
       "    </tr>\n",
       "    <tr>\n",
       "      <th>3</th>\n",
       "      <td>2015-08-10</td>\n",
       "      <td>264.470001</td>\n",
       "      <td>267.032013</td>\n",
       "      <td>262.596008</td>\n",
       "      <td>265.477997</td>\n",
       "    </tr>\n",
       "    <tr>\n",
       "      <th>4</th>\n",
       "      <td>2015-08-11</td>\n",
       "      <td>270.385986</td>\n",
       "      <td>270.385986</td>\n",
       "      <td>264.093994</td>\n",
       "      <td>264.342010</td>\n",
       "    </tr>\n",
       "  </tbody>\n",
       "</table>\n",
       "</div>"
      ],
      "text/plain": [
       "        Date   BTC_Close    BTC_High     BTC_Low    BTC_Open\n",
       "0 2015-08-07  279.584991  280.391998  276.365997  278.740997\n",
       "1 2015-08-08  260.997009  279.928009  260.709991  279.742004\n",
       "2 2015-08-09  265.083008  267.002991  260.467987  261.115997\n",
       "3 2015-08-10  264.470001  267.032013  262.596008  265.477997\n",
       "4 2015-08-11  270.385986  270.385986  264.093994  264.342010"
      ]
     },
     "execution_count": 4,
     "metadata": {},
     "output_type": "execute_result"
    }
   ],
   "source": [
    "data.head()"
   ]
  },
  {
   "cell_type": "code",
   "execution_count": 5,
   "metadata": {},
   "outputs": [
    {
     "data": {
      "text/plain": [
       "(2430, 5)"
      ]
     },
     "execution_count": 5,
     "metadata": {},
     "output_type": "execute_result"
    }
   ],
   "source": [
    "data.shape"
   ]
  },
  {
   "cell_type": "code",
   "execution_count": 6,
   "metadata": {},
   "outputs": [
    {
     "data": {
      "text/plain": [
       "Date         0\n",
       "BTC_Close    0\n",
       "BTC_High     0\n",
       "BTC_Low      0\n",
       "BTC_Open     0\n",
       "dtype: int64"
      ]
     },
     "execution_count": 6,
     "metadata": {},
     "output_type": "execute_result"
    }
   ],
   "source": [
    "data.isna().sum()"
   ]
  },
  {
   "cell_type": "markdown",
   "metadata": {},
   "source": [
    "# Split data into train and test set"
   ]
  },
  {
   "cell_type": "code",
   "execution_count": 7,
   "metadata": {},
   "outputs": [],
   "source": [
    "start_day_p2 = pd.Timestamp(2015, 8, 7)\n",
    "test_day_p2 = pd.Timestamp(2018, 4, 1)\n",
    "end_day_p2 = pd.Timestamp(2018, 9, 30)\n",
    "\n",
    "period2 = data[(data[\"Date\"] <= end_day_p2)].reset_index(drop = True)\n",
    "train_dataset_p2 = period2[period2[\"Date\"] < test_day_p2].reset_index(drop = True)\n",
    "test_dataset_p2 = period2[period2[\"Date\"] >= test_day_p2].reset_index(drop = True)\n",
    "train_dataset_p2 = train_dataset_p2.drop(columns = [\"Date\"])\n",
    "test_dataset_p2 = test_dataset_p2.drop(columns = [\"Date\"])"
   ]
  },
  {
   "cell_type": "code",
   "execution_count": 8,
   "metadata": {},
   "outputs": [
    {
     "name": "stdout",
     "output_type": "stream",
     "text": [
      "X_train shape: (967, 4)\n",
      "X_test shape: (182, 4)\n",
      "Y_train shape: (967,)\n",
      "Y_test shape: (182,)\n"
     ]
    }
   ],
   "source": [
    "# Define the target variable\n",
    "target = 'BTC_Close'\n",
    "\n",
    "# Create the feature sets\n",
    "X_train = train_dataset_p2[:-1]\n",
    "X_test = test_dataset_p2[:-1]\n",
    "\n",
    "# Create the target sets\n",
    "Y_train = train_dataset_p2[target][1:]\n",
    "Y_test = test_dataset_p2[target][1:]\n",
    "\n",
    "X_train = np.array(X_train)\n",
    "X_test = np.array(X_test)\n",
    "Y_train = np.array(Y_train)\n",
    "Y_test = np.array(Y_test)\n",
    "\n",
    "print(\"X_train shape:\", X_train.shape)\n",
    "print(\"X_test shape:\", X_test.shape)\n",
    "print(\"Y_train shape:\", Y_train.shape)\n",
    "print(\"Y_test shape:\", Y_test.shape)\n"
   ]
  },
  {
   "cell_type": "markdown",
   "metadata": {},
   "source": [
    "# Normalize data with MinMaxScaler"
   ]
  },
  {
   "cell_type": "code",
   "execution_count": 9,
   "metadata": {},
   "outputs": [
    {
     "name": "stdout",
     "output_type": "stream",
     "text": [
      "967\n"
     ]
    }
   ],
   "source": [
    "# Normalize the datasets using MinMaxScaler\n",
    "from sklearn.preprocessing import MinMaxScaler\n",
    "scaler = MinMaxScaler()\n",
    "\n",
    "# Fit the scaler on the training data and transform both train and test data\n",
    "X_train_scaled = scaler.fit_transform(X_train.reshape(-1, X_train.shape[-1])).reshape(X_train.shape)\n",
    "X_test_scaled = scaler.transform(X_test.reshape(-1, X_test.shape[-1])).reshape(X_test.shape)\n",
    "\n",
    "# Update the variables used for training\n",
    "X_train = X_train_scaled\n",
    "X_test = X_test_scaled\n",
    "\n",
    "print(len(X_train))"
   ]
  },
  {
   "cell_type": "markdown",
   "metadata": {},
   "source": [
    "# Model initialization & compilation"
   ]
  },
  {
   "cell_type": "code",
   "execution_count": 10,
   "metadata": {},
   "outputs": [
    {
     "name": "stdout",
     "output_type": "stream",
     "text": [
      "Reloading Tuner from /home/hoangbaoan1901/Documents/information-system_UET/sem5/prdan/tianen101/implementations/experiments/hyperparam_tuning/mlp_p1/tuner0.json\n"
     ]
    }
   ],
   "source": [
    "import keras_tuner as kt\n",
    "\n",
    "\n",
    "def mlp_builder(hp):\n",
    "    tf.keras.backend.clear_session()\n",
    "    model = tf.keras.models.Sequential()\n",
    "    model.add(tf.keras.layers.Input(shape=(X_train.shape[1],)))\n",
    "    hp_no_layers = hp.Int('no_layers', min_value=1, max_value=2, step=1)\n",
    "    for i in range(hp_no_layers):\n",
    "        hp_no_units = hp.Choice(f'no_units_{i}', values=[64, 128, 256])\n",
    "        model.add(tf.keras.layers.Dense(units=hp_no_units, activation='relu'))\n",
    "        hp_no_dropout = hp.Float(\n",
    "            f'dropout_{i}', min_value=0.1, max_value=0.5, step=0.1)\n",
    "        model.add(tf.keras.layers.Dropout(hp_no_dropout))\n",
    "    hp_last_units = hp.Choice('last_units', values=[64, 128, 256])\n",
    "    model.add(tf.keras.layers.Dense(units=hp_last_units, activation='relu'))\n",
    "    hp_last_dropout = hp.Float(\n",
    "        'last_dropout', min_value=0.1, max_value=0.5, step=0.1)\n",
    "    model.add(tf.keras.layers.Dropout(hp_last_dropout))\n",
    "    model.add(tf.keras.layers.Dense(1, activation='linear'))\n",
    "    model.compile(optimizer='adam', loss='mse')\n",
    "    return model\n",
    "\n",
    "\n",
    "tuner = kt.Hyperband(mlp_builder,\n",
    "                     objective='val_loss',\n",
    "                     max_epochs=100,\n",
    "                     factor=3,\n",
    "                     directory='/home/hoangbaoan1901/Documents/information-system_UET/sem5/prdan/tianen101/implementations/experiments/hyperparam_tuning',\n",
    "                     project_name='mlp_p1')\n",
    "\n",
    "stop_early = tf.keras.callbacks.EarlyStopping(monitor='val_loss', patience=5, restore_best_weights=True)"
   ]
  },
  {
   "cell_type": "code",
   "execution_count": 11,
   "metadata": {},
   "outputs": [],
   "source": [
    "tuner.search(X_train, Y_train, epochs=100, validation_data=(X_test, Y_test), callbacks=[stop_early])"
   ]
  },
  {
   "cell_type": "code",
   "execution_count": 12,
   "metadata": {},
   "outputs": [
    {
     "name": "stdout",
     "output_type": "stream",
     "text": [
      "Epoch 1/100\n",
      "\u001b[1m31/31\u001b[0m \u001b[32m━━━━━━━━━━━━━━━━━━━━\u001b[0m\u001b[37m\u001b[0m \u001b[1m1s\u001b[0m 4ms/step - loss: 24882720.0000 - val_loss: 53748804.0000\n",
      "Epoch 2/100\n",
      "\u001b[1m31/31\u001b[0m \u001b[32m━━━━━━━━━━━━━━━━━━━━\u001b[0m\u001b[37m\u001b[0m \u001b[1m0s\u001b[0m 2ms/step - loss: 24299262.0000 - val_loss: 47092244.0000\n",
      "Epoch 3/100\n",
      "\u001b[1m31/31\u001b[0m \u001b[32m━━━━━━━━━━━━━━━━━━━━\u001b[0m\u001b[37m\u001b[0m \u001b[1m0s\u001b[0m 2ms/step - loss: 19372110.0000 - val_loss: 16188662.0000\n",
      "Epoch 4/100\n",
      "\u001b[1m31/31\u001b[0m \u001b[32m━━━━━━━━━━━━━━━━━━━━\u001b[0m\u001b[37m\u001b[0m \u001b[1m0s\u001b[0m 2ms/step - loss: 5406185.5000 - val_loss: 312192.9062\n",
      "Epoch 5/100\n",
      "\u001b[1m31/31\u001b[0m \u001b[32m━━━━━━━━━━━━━━━━━━━━\u001b[0m\u001b[37m\u001b[0m \u001b[1m0s\u001b[0m 2ms/step - loss: 2460972.7500 - val_loss: 341016.4688\n",
      "Epoch 6/100\n",
      "\u001b[1m31/31\u001b[0m \u001b[32m━━━━━━━━━━━━━━━━━━━━\u001b[0m\u001b[37m\u001b[0m \u001b[1m0s\u001b[0m 2ms/step - loss: 1287642.5000 - val_loss: 127770.3828\n",
      "Epoch 7/100\n",
      "\u001b[1m31/31\u001b[0m \u001b[32m━━━━━━━━━━━━━━━━━━━━\u001b[0m\u001b[37m\u001b[0m \u001b[1m0s\u001b[0m 2ms/step - loss: 520164.9375 - val_loss: 75738.7422\n",
      "Epoch 8/100\n",
      "\u001b[1m31/31\u001b[0m \u001b[32m━━━━━━━━━━━━━━━━━━━━\u001b[0m\u001b[37m\u001b[0m \u001b[1m0s\u001b[0m 2ms/step - loss: 343448.8750 - val_loss: 78877.9141\n",
      "Epoch 9/100\n",
      "\u001b[1m31/31\u001b[0m \u001b[32m━━━━━━━━━━━━━━━━━━━━\u001b[0m\u001b[37m\u001b[0m \u001b[1m0s\u001b[0m 2ms/step - loss: 590012.4375 - val_loss: 74579.6016\n",
      "Epoch 10/100\n",
      "\u001b[1m31/31\u001b[0m \u001b[32m━━━━━━━━━━━━━━━━━━━━\u001b[0m\u001b[37m\u001b[0m \u001b[1m0s\u001b[0m 2ms/step - loss: 353586.7188 - val_loss: 100549.2969\n",
      "Epoch 11/100\n",
      "\u001b[1m31/31\u001b[0m \u001b[32m━━━━━━━━━━━━━━━━━━━━\u001b[0m\u001b[37m\u001b[0m \u001b[1m0s\u001b[0m 2ms/step - loss: 482698.9062 - val_loss: 84774.6484\n",
      "Epoch 12/100\n",
      "\u001b[1m31/31\u001b[0m \u001b[32m━━━━━━━━━━━━━━━━━━━━\u001b[0m\u001b[37m\u001b[0m \u001b[1m0s\u001b[0m 2ms/step - loss: 387241.8750 - val_loss: 77918.0547\n",
      "Epoch 13/100\n",
      "\u001b[1m31/31\u001b[0m \u001b[32m━━━━━━━━━━━━━━━━━━━━\u001b[0m\u001b[37m\u001b[0m \u001b[1m0s\u001b[0m 2ms/step - loss: 469870.0000 - val_loss: 88832.2578\n",
      "Epoch 14/100\n",
      "\u001b[1m31/31\u001b[0m \u001b[32m━━━━━━━━━━━━━━━━━━━━\u001b[0m\u001b[37m\u001b[0m \u001b[1m0s\u001b[0m 2ms/step - loss: 496450.4375 - val_loss: 120864.9688\n",
      "Best epoch: 9\n"
     ]
    }
   ],
   "source": [
    "best_hps = tuner.get_best_hyperparameters(num_trials=1)[0]\n",
    "model = tuner.hypermodel.build(best_hps)\n",
    "history = model.fit(X_train, Y_train, epochs=100, validation_data=(X_test, Y_test), callbacks=[stop_early])\n",
    "val_loss_per_epoch = history.history['val_loss']\n",
    "best_epoch = val_loss_per_epoch.index(min(val_loss_per_epoch)) + 1\n",
    "print(f\"Best epoch: {best_epoch}\")"
   ]
  },
  {
   "cell_type": "code",
   "execution_count": 13,
   "metadata": {},
   "outputs": [
    {
     "name": "stdout",
     "output_type": "stream",
     "text": [
      "Epoch 1/9\n",
      "\u001b[1m31/31\u001b[0m \u001b[32m━━━━━━━━━━━━━━━━━━━━\u001b[0m\u001b[37m\u001b[0m \u001b[1m1s\u001b[0m 1ms/step - loss: 23167604.0000\n",
      "Epoch 2/9\n",
      "\u001b[1m31/31\u001b[0m \u001b[32m━━━━━━━━━━━━━━━━━━━━\u001b[0m\u001b[37m\u001b[0m \u001b[1m0s\u001b[0m 1ms/step - loss: 22729016.0000\n",
      "Epoch 3/9\n",
      "\u001b[1m31/31\u001b[0m \u001b[32m━━━━━━━━━━━━━━━━━━━━\u001b[0m\u001b[37m\u001b[0m \u001b[1m0s\u001b[0m 1ms/step - loss: 18955774.0000 \n",
      "Epoch 4/9\n",
      "\u001b[1m31/31\u001b[0m \u001b[32m━━━━━━━━━━━━━━━━━━━━\u001b[0m\u001b[37m\u001b[0m \u001b[1m0s\u001b[0m 1ms/step - loss: 8248912.0000 \n",
      "Epoch 5/9\n",
      "\u001b[1m31/31\u001b[0m \u001b[32m━━━━━━━━━━━━━━━━━━━━\u001b[0m\u001b[37m\u001b[0m \u001b[1m0s\u001b[0m 967us/step - loss: 3148493.5000\n",
      "Epoch 6/9\n",
      "\u001b[1m31/31\u001b[0m \u001b[32m━━━━━━━━━━━━━━━━━━━━\u001b[0m\u001b[37m\u001b[0m \u001b[1m0s\u001b[0m 1ms/step - loss: 1588765.5000 \n",
      "Epoch 7/9\n",
      "\u001b[1m31/31\u001b[0m \u001b[32m━━━━━━━━━━━━━━━━━━━━\u001b[0m\u001b[37m\u001b[0m \u001b[1m0s\u001b[0m 1ms/step - loss: 741783.0000 \n",
      "Epoch 8/9\n",
      "\u001b[1m31/31\u001b[0m \u001b[32m━━━━━━━━━━━━━━━━━━━━\u001b[0m\u001b[37m\u001b[0m \u001b[1m0s\u001b[0m 961us/step - loss: 505505.4375\n",
      "Epoch 9/9\n",
      "\u001b[1m31/31\u001b[0m \u001b[32m━━━━━━━━━━━━━━━━━━━━\u001b[0m\u001b[37m\u001b[0m \u001b[1m0s\u001b[0m 1ms/step - loss: 370154.3125\n"
     ]
    },
    {
     "data": {
      "text/plain": [
       "<keras.src.callbacks.history.History at 0x7f4b641d21e0>"
      ]
     },
     "execution_count": 13,
     "metadata": {},
     "output_type": "execute_result"
    }
   ],
   "source": [
    "hypermodel = tuner.hypermodel.build(best_hps)\n",
    "hypermodel.fit(X_train, Y_train, epochs=best_epoch)"
   ]
  },
  {
   "cell_type": "code",
   "execution_count": 14,
   "metadata": {},
   "outputs": [
    {
     "name": "stdout",
     "output_type": "stream",
     "text": [
      "\u001b[1m6/6\u001b[0m \u001b[32m━━━━━━━━━━━━━━━━━━━━\u001b[0m\u001b[37m\u001b[0m \u001b[1m0s\u001b[0m 5ms/step \n"
     ]
    }
   ],
   "source": [
    "# Plot the result\n",
    "from sklearn.metrics import r2_score\n",
    "from sklearn.metrics import root_mean_squared_error\n",
    "\n",
    "def directional_accuracy(y_true, y_pred):\n",
    "\ty_test_da = np.array(y_true)\n",
    "\ty_pred_0 = y_pred[1:] - y_test_da[:-1]\n",
    "\ty_test_0 = y_true[1:] - y_test_da[:-1]\n",
    "\tDA = (y_pred_0<0) == (y_test_0<0)\n",
    "\treturn np.mean(DA)*100\n",
    "\n",
    "Y_pred = hypermodel.predict(X_test)\n",
    "r2 = r2_score(Y_test, Y_pred)\n",
    "rmse = root_mean_squared_error(Y_test, Y_pred)\n",
    "da = directional_accuracy(Y_test, Y_pred)"
   ]
  },
  {
   "cell_type": "code",
   "execution_count": 15,
   "metadata": {},
   "outputs": [
    {
     "data": {
      "image/png": "[encoded data removed]",
      "text/plain": [
       "<Figure size 1400x700 with 1 Axes>"
      ]
     },
     "metadata": {},
     "output_type": "display_data"
    }
   ],
   "source": [
    "import matplotlib.pyplot as plt\n",
    "\n",
    "plt.figure(figsize=(14, 7))\n",
    "plt.title(f\"MLP period 1 - RMSE: {rmse:.4f}, R2: {r2:.4f}, DA: {da:.2f}%\")\n",
    "plt.plot(Y_test, label='Actual')\n",
    "plt.plot(Y_pred, label='Predicted')\n",
    "\n",
    "plt.legend()\n",
    "plt.show()"
   ]
  },
  {
   "cell_type": "code",
   "execution_count": 16,
   "metadata": {},
   "outputs": [
    {
     "name": "stdout",
     "output_type": "stream",
     "text": [
      "{'no_layers': 2, 'no_units_0': 256, 'dropout_0': 0.30000000000000004, 'last_units': 256, 'last_dropout': 0.5, 'no_units_1': 256, 'dropout_1': 0.1, 'tuner/epochs': 100, 'tuner/initial_epoch': 34, 'tuner/bracket': 4, 'tuner/round': 4, 'tuner/trial_id': '0142'}\n"
     ]
    }
   ],
   "source": [
    "print(best_hps.values)"
   ]
  },
  {
   "cell_type": "code",
   "execution_count": 17,
   "metadata": {},
   "outputs": [],
   "source": [
    "import pickle\n",
    "name = 'period1'\n",
    "model = 'mlp'\n",
    "file = open(f\"/home/hoangbaoan1901/Documents/information-system_UET/sem5/prdan/tianen101/implementations/results/{name}/{model}.pkl\", \"wb\")\n",
    "pickle.dump(obj=Y_pred, file=file)\n",
    "file.close()"
   ]
  },
  {
   "cell_type": "code",
   "execution_count": 18,
   "metadata": {},
   "outputs": [
    {
     "name": "stdout",
     "output_type": "stream",
     "text": [
      "[[6800.672 ]\n",
      " [6910.598 ]\n",
      " [7227.2114]\n",
      " [7084.898 ]\n",
      " [6752.1543]\n",
      " [6664.668 ]\n",
      " [6747.5425]\n",
      " [6934.1577]\n",
      " [6854.98  ]\n",
      " [6744.311 ]\n",
      " [6840.946 ]\n",
      " [7322.1763]\n",
      " [7865.246 ]\n",
      " [7891.97  ]\n",
      " [8094.322 ]\n",
      " [8101.4604]\n",
      " [7964.691 ]\n",
      " [7977.093 ]\n",
      " [8150.3677]\n",
      " [8487.404 ]\n",
      " [8769.465 ]\n",
      " [8798.009 ]\n",
      " [8788.942 ]\n",
      " [9237.718 ]\n",
      " [9189.382 ]\n",
      " [8957.751 ]\n",
      " [9077.811 ]\n",
      " [9075.037 ]\n",
      " [9288.054 ]\n",
      " [9243.748 ]\n",
      " [9047.586 ]\n",
      " [9070.83  ]\n",
      " [9404.448 ]\n",
      " [9602.641 ]\n",
      " [9715.256 ]\n",
      " [9638.139 ]\n",
      " [9393.52  ]\n",
      " [9217.857 ]\n",
      " [9155.666 ]\n",
      " [9118.9795]\n",
      " [8657.71  ]\n",
      " [8383.534 ]\n",
      " [8525.352 ]\n",
      " [8592.456 ]\n",
      " [8550.331 ]\n",
      " [8315.304 ]\n",
      " [8168.4272]\n",
      " [8076.192 ]\n",
      " [8191.772 ]\n",
      " [8307.519 ]\n",
      " [8391.205 ]\n",
      " [8150.097 ]\n",
      " [7721.5503]\n",
      " [7488.993 ]\n",
      " [7465.9985]\n",
      " [7382.423 ]\n",
      " [7282.785 ]\n",
      " [7194.6377]\n",
      " [7241.4634]\n",
      " [7376.73  ]\n",
      " [7402.9688]\n",
      " [7448.646 ]\n",
      " [7527.474 ]\n",
      " [7613.4033]\n",
      " [7550.317 ]\n",
      " [7478.4106]\n",
      " [7549.7114]\n",
      " [7613.6987]\n",
      " [7575.5903]\n",
      " [7529.362 ]\n",
      " [7062.647 ]\n",
      " [6772.9976]\n",
      " [6677.9204]\n",
      " [6412.154 ]\n",
      " [6459.9727]\n",
      " [6506.629 ]\n",
      " [6445.7705]\n",
      " [6478.8228]\n",
      " [6562.3184]\n",
      " [6704.2515]\n",
      " [6688.4277]\n",
      " [6702.1636]\n",
      " [6340.5767]\n",
      " [6086.802 ]\n",
      " [6046.8716]\n",
      " [6165.654 ]\n",
      " [6131.933 ]\n",
      " [6068.3696]\n",
      " [5975.83  ]\n",
      " [6003.3286]\n",
      " [6271.7803]\n",
      " [6327.063 ]\n",
      " [6441.378 ]\n",
      " [6506.4644]\n",
      " [6537.1987]\n",
      " [6578.0015]\n",
      " [6581.0483]\n",
      " [6685.209 ]\n",
      " [6758.9556]\n",
      " [6712.9614]\n",
      " [6484.737 ]\n",
      " [6322.282 ]\n",
      " [6237.8604]\n",
      " [6192.464 ]\n",
      " [6206.9087]\n",
      " [6270.637 ]\n",
      " [6494.026 ]\n",
      " [6972.0063]\n",
      " [7311.707 ]\n",
      " [7344.9146]\n",
      " [7370.7085]\n",
      " [7304.677 ]\n",
      " [7375.3735]\n",
      " [7510.5293]\n",
      " [7995.6523]\n",
      " [8193.32  ]\n",
      " [8003.4624]\n",
      " [7983.4175]\n",
      " [8101.9946]\n",
      " [8137.312 ]\n",
      " [8067.399 ]\n",
      " [7890.482 ]\n",
      " [7600.615 ]\n",
      " [7543.519 ]\n",
      " [7407.522 ]\n",
      " [7176.187 ]\n",
      " [6975.9336]\n",
      " [6958.2144]\n",
      " [6842.8384]\n",
      " [6452.125 ]\n",
      " [6383.0854]\n",
      " [6315.1143]\n",
      " [6209.4507]\n",
      " [6261.0796]\n",
      " [6297.513 ]\n",
      " [6135.732 ]\n",
      " [6281.894 ]\n",
      " [6291.9443]\n",
      " [6403.1665]\n",
      " [6440.4424]\n",
      " [6403.21  ]\n",
      " [6357.7305]\n",
      " [6343.8745]\n",
      " [6442.693 ]\n",
      " [6402.101 ]\n",
      " [6566.8413]\n",
      " [6686.7114]\n",
      " [6657.9907]\n",
      " [6734.9873]\n",
      " [6935.1406]\n",
      " [6995.808 ]\n",
      " [6923.1187]\n",
      " [6937.7915]\n",
      " [7068.557 ]\n",
      " [7163.298 ]\n",
      " [7204.1304]\n",
      " [7254.2344]\n",
      " [7023.443 ]\n",
      " [6555.7153]\n",
      " [6433.0503]\n",
      " [6301.723 ]\n",
      " [6240.6045]\n",
      " [6272.4214]\n",
      " [6275.673 ]\n",
      " [6272.153 ]\n",
      " [6386.529 ]\n",
      " [6465.678 ]\n",
      " [6472.5566]\n",
      " [6460.3613]\n",
      " [6345.137 ]\n",
      " [6273.1187]\n",
      " [6304.056 ]\n",
      " [6407.0522]\n",
      " [6578.8423]\n",
      " [6665.5356]\n",
      " [6661.4595]\n",
      " [6593.018 ]\n",
      " [6454.7036]\n",
      " [6428.7583]\n",
      " [6531.8687]\n",
      " [6620.431 ]\n",
      " [6544.8384]]\n"
     ]
    }
   ],
   "source": [
    "preds = pickle.load(open(f\"/home/hoangbaoan1901/Documents/information-system_UET/sem5/prdan/tianen101/implementations/results/{name}/{model}.pkl\", \"rb\"))\n",
    "print(preds)"
   ]
  }
 ],
 "metadata": {
  "kernelspec": {
   "display_name": "tf-env",
   "language": "python",
   "name": "python3"
  },
  "language_info": {
   "codemirror_mode": {
    "name": "ipython",
    "version": 3
   },
   "file_extension": ".py",
   "mimetype": "text/x-python",
   "name": "python",
   "nbconvert_exporter": "python",
   "pygments_lexer": "ipython3",
   "version": "3.12.7"
  }
 },
 "nbformat": 4,
 "nbformat_minor": 2
}
