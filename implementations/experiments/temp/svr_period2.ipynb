{
 "cells": [
  {
   "cell_type": "markdown",
   "metadata": {},
   "source": [
    "### Load data"
   ]
  },
  {
   "cell_type": "code",
   "execution_count": 1,
   "metadata": {},
   "outputs": [],
   "source": [
    "import pandas as pd\n",
    "import numpy as np\n",
    "\n",
    "data = pd.read_csv(\"/home/hoangbaoan1901/Documents/information-system_UET/sem5/prdan/Homeworks/week-3-btl/datasets/jrfm-2156907-cleaned.csv\")"
   ]
  },
  {
   "cell_type": "code",
   "execution_count": 2,
   "metadata": {},
   "outputs": [],
   "source": [
    "data['Date'] = pd.to_datetime(data['Date'])"
   ]
  },
  {
   "cell_type": "markdown",
   "metadata": {},
   "source": [
    "#### Split train, test period"
   ]
  },
  {
   "cell_type": "code",
   "execution_count": 3,
   "metadata": {},
   "outputs": [
    {
     "name": "stdout",
     "output_type": "stream",
     "text": [
      "(1151, 48) (1279, 48)\n"
     ]
    }
   ],
   "source": [
    "# Split data into 2 periods\n",
    "start_day_p1 = pd.Timestamp(2015, 8, 7)\n",
    "test_day_p1 = pd.Timestamp(2018, 4, 1)\n",
    "end_day_p1 = pd.Timestamp(2018, 9, 30)\n",
    "\n",
    "period1 = data[(data[\"Date\"] >= start_day_p1) & (data[\"Date\"] <= end_day_p1) ].reset_index(drop = True)\n",
    "train_dataset_p1 = period1[period1[\"Date\"] < test_day_p1].reset_index(drop = True)\n",
    "test_dataset_p1 = period1[period1[\"Date\"] >= test_day_p1].reset_index(drop = True)\n",
    "\n",
    "\n",
    "start_day_p2 = pd.Timestamp(2018, 10, 1)\n",
    "test_day_p2 = pd.Timestamp(2021, 10, 1)\n",
    "end_day_p2 = pd.Timestamp(2022, 4, 1)\n",
    "\n",
    "period2 = data[(data[\"Date\"] >= start_day_p2) & (data[\"Date\"] <= end_day_p2) ].reset_index(drop = True)\n",
    "train_dataset_p2 = period2[period2[\"Date\"] < test_day_p2].reset_index(drop = True)\n",
    "test_dataset_p2 = period2[period2[\"Date\"] >= test_day_p2].reset_index(drop = True)\n",
    "\n",
    "train_dataset_p1 = train_dataset_p1.drop(\"Date\", axis=1)\n",
    "test_dataset_p1 = test_dataset_p1.drop(\"Date\", axis=1)\n",
    "train_dataset_p2 = train_dataset_p2.drop(\"Date\", axis=1)\n",
    "test_dataset_p2 = test_dataset_p2.drop(\"Date\", axis=1)\n",
    "\n",
    "\n",
    "print(period1.shape, period2.shape)"
   ]
  },
  {
   "cell_type": "markdown",
   "metadata": {},
   "source": [
    "### List Evaluation metrics"
   ]
  },
  {
   "cell_type": "code",
   "execution_count": 4,
   "metadata": {},
   "outputs": [],
   "source": [
    "# Metrics\n",
    "from sklearn.metrics import root_mean_squared_error\n",
    "from sklearn.metrics import r2_score\n",
    "from sklearn.metrics import mean_absolute_percentage_error\n",
    "from sklearn.metrics import accuracy_score\n",
    "\n",
    "def directional_accuracy(y_true, y_pred):\n",
    "\ty_test_da = np.array(y_true)\n",
    "\ty_pred_0 = y_pred[1:] - y_test_da[:-1]\n",
    "\ty_test_0 = y_true[1:] - y_test_da[:-1]\n",
    "\tDA = (y_pred_0<0) == (y_test_0<0)\n",
    "\treturn np.mean(DA)*100"
   ]
  },
  {
   "cell_type": "markdown",
   "metadata": {},
   "source": [
    "### Function to create X and y"
   ]
  },
  {
   "cell_type": "code",
   "execution_count": 5,
   "metadata": {},
   "outputs": [],
   "source": [
    "# Function to create X and y\n",
    "def create_train_test(train_dataset, test_dataset):\n",
    "\tX_train = train_dataset[:-1]\n",
    "\tY_train = train_dataset[\"BTC_Close\"][1:]\n",
    "\tX_test = test_dataset[:-1]\n",
    "\tY_test = test_dataset[\"BTC_Close\"][1:]\n",
    "\treturn X_train, Y_train, X_test, Y_test\n",
    "\n",
    "X_train_p1, Y_train_p1, X_test_p1, Y_test_p1 = create_train_test(train_dataset_p1, test_dataset_p1)\n",
    "X_train_p2, Y_train_p2, X_test_p2, Y_test_p2 = create_train_test(train_dataset_p2, test_dataset_p2)\n",
    "\n",
    "# Scale data\n",
    "from sklearn.preprocessing import MinMaxScaler\n",
    "scaler = MinMaxScaler()\n",
    "X_train_p1 = scaler.fit_transform(X_train_p1)\n",
    "X_test_p1 = scaler.transform(X_test_p1)\n",
    "X_train_p2 = scaler.fit_transform(X_train_p2)\n",
    "X_test_p2 = scaler.transform(X_test_p2)\n",
    "Y_train_p1 = scaler.fit_transform(Y_train_p1.values.reshape(-1, 1))\n",
    "Y_test_p1 = scaler.transform(Y_test_p1.values.reshape(-1, 1))\n",
    "Y_train_p2 = scaler.fit_transform(Y_train_p2.values.reshape(-1, 1))\n",
    "Y_test_p2 = scaler.transform(Y_test_p2.values.reshape(-1, 1))"
   ]
  },
  {
   "cell_type": "markdown",
   "metadata": {},
   "source": [
    "### Create model"
   ]
  },
  {
   "cell_type": "markdown",
   "metadata": {},
   "source": [
    "#### Create ParamGrid"
   ]
  },
  {
   "cell_type": "code",
   "execution_count": 6,
   "metadata": {},
   "outputs": [
    {
     "name": "stdout",
     "output_type": "stream",
     "text": [
      "256\n",
      "{'C': 0.1, 'degree': 2, 'epsilon': 0.01, 'kernel': 'linear'}\n"
     ]
    }
   ],
   "source": [
    "from sklearn.model_selection import ParameterGrid\n",
    "from sklearn.svm import SVR\n",
    "\n",
    "params = {\n",
    "\t'C': [0.1, 1, 10, 100],\n",
    "\t'epsilon': [0.01, 0.1, 0.2, 0.5],\n",
    "    'kernel': ['linear', 'poly', 'rbf', 'sigmoid'],\n",
    "    'degree': [2, 3, 4, 5],\n",
    "}\n",
    "\n",
    "param_grid = list(ParameterGrid(params))\n",
    "print(len(param_grid))\n",
    "print(param_grid[0])\n",
    "model = SVR(kernel='linear')\n"
   ]
  },
  {
   "cell_type": "code",
   "execution_count": 7,
   "metadata": {},
   "outputs": [
    {
     "name": "stdout",
     "output_type": "stream",
     "text": [
      "{'C': 0.1, 'degree': 2, 'epsilon': 0.01, 'kernel': 'linear'} 0.03226890765076646\n"
     ]
    },
    {
     "name": "stderr",
     "output_type": "stream",
     "text": [
      "/home/hoangbaoan1901/anaconda3/envs/tf-env/lib/python3.12/site-packages/sklearn/utils/validation.py:1339: DataConversionWarning: A column-vector y was passed when a 1d array was expected. Please change the shape of y to (n_samples, ), for example using ravel().\n",
      "  y = column_or_1d(y, warn=True)\n",
      "/home/hoangbaoan1901/anaconda3/envs/tf-env/lib/python3.12/site-packages/sklearn/utils/validation.py:1339: DataConversionWarning: A column-vector y was passed when a 1d array was expected. Please change the shape of y to (n_samples, ), for example using ravel().\n",
      "  y = column_or_1d(y, warn=True)\n"
     ]
    },
    {
     "name": "stdout",
     "output_type": "stream",
     "text": [
      "{'C': 0.1, 'degree': 2, 'epsilon': 0.01, 'kernel': 'poly'} 0.062163322867481934\n",
      "{'C': 0.1, 'degree': 2, 'epsilon': 0.01, 'kernel': 'rbf'} 0.13169062829350708\n"
     ]
    },
    {
     "name": "stderr",
     "output_type": "stream",
     "text": [
      "/home/hoangbaoan1901/anaconda3/envs/tf-env/lib/python3.12/site-packages/sklearn/utils/validation.py:1339: DataConversionWarning: A column-vector y was passed when a 1d array was expected. Please change the shape of y to (n_samples, ), for example using ravel().\n",
      "  y = column_or_1d(y, warn=True)\n",
      "/home/hoangbaoan1901/anaconda3/envs/tf-env/lib/python3.12/site-packages/sklearn/utils/validation.py:1339: DataConversionWarning: A column-vector y was passed when a 1d array was expected. Please change the shape of y to (n_samples, ), for example using ravel().\n",
      "  y = column_or_1d(y, warn=True)\n"
     ]
    },
    {
     "name": "stdout",
     "output_type": "stream",
     "text": [
      "{'C': 0.1, 'degree': 2, 'epsilon': 0.01, 'kernel': 'sigmoid'} 1.855035462794252\n",
      "{'C': 0.1, 'degree': 2, 'epsilon': 0.1, 'kernel': 'linear'} 0.06485069152993304\n",
      "{'C': 0.1, 'degree': 2, 'epsilon': 0.1, 'kernel': 'poly'} 0.10727156856864961\n"
     ]
    },
    {
     "name": "stderr",
     "output_type": "stream",
     "text": [
      "/home/hoangbaoan1901/anaconda3/envs/tf-env/lib/python3.12/site-packages/sklearn/utils/validation.py:1339: DataConversionWarning: A column-vector y was passed when a 1d array was expected. Please change the shape of y to (n_samples, ), for example using ravel().\n",
      "  y = column_or_1d(y, warn=True)\n",
      "/home/hoangbaoan1901/anaconda3/envs/tf-env/lib/python3.12/site-packages/sklearn/utils/validation.py:1339: DataConversionWarning: A column-vector y was passed when a 1d array was expected. Please change the shape of y to (n_samples, ), for example using ravel().\n",
      "  y = column_or_1d(y, warn=True)\n",
      "/home/hoangbaoan1901/anaconda3/envs/tf-env/lib/python3.12/site-packages/sklearn/utils/validation.py:1339: DataConversionWarning: A column-vector y was passed when a 1d array was expected. Please change the shape of y to (n_samples, ), for example using ravel().\n",
      "  y = column_or_1d(y, warn=True)\n"
     ]
    },
    {
     "name": "stdout",
     "output_type": "stream",
     "text": [
      "{'C': 0.1, 'degree': 2, 'epsilon': 0.1, 'kernel': 'rbf'} 0.13374108726568162\n"
     ]
    },
    {
     "name": "stderr",
     "output_type": "stream",
     "text": [
      "/home/hoangbaoan1901/anaconda3/envs/tf-env/lib/python3.12/site-packages/sklearn/utils/validation.py:1339: DataConversionWarning: A column-vector y was passed when a 1d array was expected. Please change the shape of y to (n_samples, ), for example using ravel().\n",
      "  y = column_or_1d(y, warn=True)\n"
     ]
    },
    {
     "name": "stdout",
     "output_type": "stream",
     "text": [
      "{'C': 0.1, 'degree': 2, 'epsilon': 0.1, 'kernel': 'sigmoid'} 1.7728256305372914\n",
      "{'C': 0.1, 'degree': 2, 'epsilon': 0.2, 'kernel': 'linear'} 0.09375700005317189\n",
      "{'C': 0.1, 'degree': 2, 'epsilon': 0.2, 'kernel': 'poly'} 0.10507359435508809\n"
     ]
    },
    {
     "name": "stderr",
     "output_type": "stream",
     "text": [
      "/home/hoangbaoan1901/anaconda3/envs/tf-env/lib/python3.12/site-packages/sklearn/utils/validation.py:1339: DataConversionWarning: A column-vector y was passed when a 1d array was expected. Please change the shape of y to (n_samples, ), for example using ravel().\n",
      "  y = column_or_1d(y, warn=True)\n",
      "/home/hoangbaoan1901/anaconda3/envs/tf-env/lib/python3.12/site-packages/sklearn/utils/validation.py:1339: DataConversionWarning: A column-vector y was passed when a 1d array was expected. Please change the shape of y to (n_samples, ), for example using ravel().\n",
      "  y = column_or_1d(y, warn=True)\n",
      "/home/hoangbaoan1901/anaconda3/envs/tf-env/lib/python3.12/site-packages/sklearn/utils/validation.py:1339: DataConversionWarning: A column-vector y was passed when a 1d array was expected. Please change the shape of y to (n_samples, ), for example using ravel().\n",
      "  y = column_or_1d(y, warn=True)\n"
     ]
    },
    {
     "name": "stdout",
     "output_type": "stream",
     "text": [
      "{'C': 0.1, 'degree': 2, 'epsilon': 0.2, 'kernel': 'rbf'} 0.17845498688040834\n",
      "{'C': 0.1, 'degree': 2, 'epsilon': 0.2, 'kernel': 'sigmoid'} 1.6495426848847774\n"
     ]
    },
    {
     "name": "stderr",
     "output_type": "stream",
     "text": [
      "/home/hoangbaoan1901/anaconda3/envs/tf-env/lib/python3.12/site-packages/sklearn/utils/validation.py:1339: DataConversionWarning: A column-vector y was passed when a 1d array was expected. Please change the shape of y to (n_samples, ), for example using ravel().\n",
      "  y = column_or_1d(y, warn=True)\n",
      "/home/hoangbaoan1901/anaconda3/envs/tf-env/lib/python3.12/site-packages/sklearn/utils/validation.py:1339: DataConversionWarning: A column-vector y was passed when a 1d array was expected. Please change the shape of y to (n_samples, ), for example using ravel().\n",
      "  y = column_or_1d(y, warn=True)\n"
     ]
    },
    {
     "name": "stdout",
     "output_type": "stream",
     "text": [
      "{'C': 0.1, 'degree': 2, 'epsilon': 0.5, 'kernel': 'linear'} 0.2926233598162074\n",
      "{'C': 0.1, 'degree': 2, 'epsilon': 0.5, 'kernel': 'poly'} 0.2926233598162074\n",
      "{'C': 0.1, 'degree': 2, 'epsilon': 0.5, 'kernel': 'rbf'} 0.2926233598162074\n"
     ]
    },
    {
     "name": "stderr",
     "output_type": "stream",
     "text": [
      "/home/hoangbaoan1901/anaconda3/envs/tf-env/lib/python3.12/site-packages/sklearn/utils/validation.py:1339: DataConversionWarning: A column-vector y was passed when a 1d array was expected. Please change the shape of y to (n_samples, ), for example using ravel().\n",
      "  y = column_or_1d(y, warn=True)\n",
      "/home/hoangbaoan1901/anaconda3/envs/tf-env/lib/python3.12/site-packages/sklearn/utils/validation.py:1339: DataConversionWarning: A column-vector y was passed when a 1d array was expected. Please change the shape of y to (n_samples, ), for example using ravel().\n",
      "  y = column_or_1d(y, warn=True)\n",
      "/home/hoangbaoan1901/anaconda3/envs/tf-env/lib/python3.12/site-packages/sklearn/utils/validation.py:1339: DataConversionWarning: A column-vector y was passed when a 1d array was expected. Please change the shape of y to (n_samples, ), for example using ravel().\n",
      "  y = column_or_1d(y, warn=True)\n"
     ]
    },
    {
     "name": "stdout",
     "output_type": "stream",
     "text": [
      "{'C': 0.1, 'degree': 2, 'epsilon': 0.5, 'kernel': 'sigmoid'} 0.2926233598162074\n",
      "{'C': 0.1, 'degree': 3, 'epsilon': 0.01, 'kernel': 'linear'} 0.03226890765076646\n"
     ]
    },
    {
     "name": "stderr",
     "output_type": "stream",
     "text": [
      "/home/hoangbaoan1901/anaconda3/envs/tf-env/lib/python3.12/site-packages/sklearn/utils/validation.py:1339: DataConversionWarning: A column-vector y was passed when a 1d array was expected. Please change the shape of y to (n_samples, ), for example using ravel().\n",
      "  y = column_or_1d(y, warn=True)\n",
      "/home/hoangbaoan1901/anaconda3/envs/tf-env/lib/python3.12/site-packages/sklearn/utils/validation.py:1339: DataConversionWarning: A column-vector y was passed when a 1d array was expected. Please change the shape of y to (n_samples, ), for example using ravel().\n",
      "  y = column_or_1d(y, warn=True)\n"
     ]
    },
    {
     "name": "stdout",
     "output_type": "stream",
     "text": [
      "{'C': 0.1, 'degree': 3, 'epsilon': 0.01, 'kernel': 'poly'} 0.13167652482352557\n",
      "{'C': 0.1, 'degree': 3, 'epsilon': 0.01, 'kernel': 'rbf'} 0.13169062829350708\n"
     ]
    },
    {
     "name": "stderr",
     "output_type": "stream",
     "text": [
      "/home/hoangbaoan1901/anaconda3/envs/tf-env/lib/python3.12/site-packages/sklearn/utils/validation.py:1339: DataConversionWarning: A column-vector y was passed when a 1d array was expected. Please change the shape of y to (n_samples, ), for example using ravel().\n",
      "  y = column_or_1d(y, warn=True)\n",
      "/home/hoangbaoan1901/anaconda3/envs/tf-env/lib/python3.12/site-packages/sklearn/utils/validation.py:1339: DataConversionWarning: A column-vector y was passed when a 1d array was expected. Please change the shape of y to (n_samples, ), for example using ravel().\n",
      "  y = column_or_1d(y, warn=True)\n"
     ]
    },
    {
     "name": "stdout",
     "output_type": "stream",
     "text": [
      "{'C': 0.1, 'degree': 3, 'epsilon': 0.01, 'kernel': 'sigmoid'} 1.855035462794252\n",
      "{'C': 0.1, 'degree': 3, 'epsilon': 0.1, 'kernel': 'linear'} 0.06485069152993304\n",
      "{'C': 0.1, 'degree': 3, 'epsilon': 0.1, 'kernel': 'poly'} 0.19299205090049\n"
     ]
    },
    {
     "name": "stderr",
     "output_type": "stream",
     "text": [
      "/home/hoangbaoan1901/anaconda3/envs/tf-env/lib/python3.12/site-packages/sklearn/utils/validation.py:1339: DataConversionWarning: A column-vector y was passed when a 1d array was expected. Please change the shape of y to (n_samples, ), for example using ravel().\n",
      "  y = column_or_1d(y, warn=True)\n",
      "/home/hoangbaoan1901/anaconda3/envs/tf-env/lib/python3.12/site-packages/sklearn/utils/validation.py:1339: DataConversionWarning: A column-vector y was passed when a 1d array was expected. Please change the shape of y to (n_samples, ), for example using ravel().\n",
      "  y = column_or_1d(y, warn=True)\n",
      "/home/hoangbaoan1901/anaconda3/envs/tf-env/lib/python3.12/site-packages/sklearn/utils/validation.py:1339: DataConversionWarning: A column-vector y was passed when a 1d array was expected. Please change the shape of y to (n_samples, ), for example using ravel().\n",
      "  y = column_or_1d(y, warn=True)\n"
     ]
    },
    {
     "name": "stdout",
     "output_type": "stream",
     "text": [
      "{'C': 0.1, 'degree': 3, 'epsilon': 0.1, 'kernel': 'rbf'} 0.13374108726568162\n",
      "{'C': 0.1, 'degree': 3, 'epsilon': 0.1, 'kernel': 'sigmoid'} 1.7728256305372914\n"
     ]
    },
    {
     "name": "stderr",
     "output_type": "stream",
     "text": [
      "/home/hoangbaoan1901/anaconda3/envs/tf-env/lib/python3.12/site-packages/sklearn/utils/validation.py:1339: DataConversionWarning: A column-vector y was passed when a 1d array was expected. Please change the shape of y to (n_samples, ), for example using ravel().\n",
      "  y = column_or_1d(y, warn=True)\n",
      "/home/hoangbaoan1901/anaconda3/envs/tf-env/lib/python3.12/site-packages/sklearn/utils/validation.py:1339: DataConversionWarning: A column-vector y was passed when a 1d array was expected. Please change the shape of y to (n_samples, ), for example using ravel().\n",
      "  y = column_or_1d(y, warn=True)\n",
      "/home/hoangbaoan1901/anaconda3/envs/tf-env/lib/python3.12/site-packages/sklearn/utils/validation.py:1339: DataConversionWarning: A column-vector y was passed when a 1d array was expected. Please change the shape of y to (n_samples, ), for example using ravel().\n",
      "  y = column_or_1d(y, warn=True)\n",
      "/home/hoangbaoan1901/anaconda3/envs/tf-env/lib/python3.12/site-packages/sklearn/utils/validation.py:1339: DataConversionWarning: A column-vector y was passed when a 1d array was expected. Please change the shape of y to (n_samples, ), for example using ravel().\n",
      "  y = column_or_1d(y, warn=True)\n"
     ]
    },
    {
     "name": "stdout",
     "output_type": "stream",
     "text": [
      "{'C': 0.1, 'degree': 3, 'epsilon': 0.2, 'kernel': 'linear'} 0.09375700005317189\n",
      "{'C': 0.1, 'degree': 3, 'epsilon': 0.2, 'kernel': 'poly'} 0.1188457079274804\n",
      "{'C': 0.1, 'degree': 3, 'epsilon': 0.2, 'kernel': 'rbf'} 0.17845498688040834\n"
     ]
    },
    {
     "name": "stderr",
     "output_type": "stream",
     "text": [
      "/home/hoangbaoan1901/anaconda3/envs/tf-env/lib/python3.12/site-packages/sklearn/utils/validation.py:1339: DataConversionWarning: A column-vector y was passed when a 1d array was expected. Please change the shape of y to (n_samples, ), for example using ravel().\n",
      "  y = column_or_1d(y, warn=True)\n",
      "/home/hoangbaoan1901/anaconda3/envs/tf-env/lib/python3.12/site-packages/sklearn/utils/validation.py:1339: DataConversionWarning: A column-vector y was passed when a 1d array was expected. Please change the shape of y to (n_samples, ), for example using ravel().\n",
      "  y = column_or_1d(y, warn=True)\n"
     ]
    },
    {
     "name": "stdout",
     "output_type": "stream",
     "text": [
      "{'C': 0.1, 'degree': 3, 'epsilon': 0.2, 'kernel': 'sigmoid'} 1.6495426848847774\n",
      "{'C': 0.1, 'degree': 3, 'epsilon': 0.5, 'kernel': 'linear'} 0.2926233598162074\n",
      "{'C': 0.1, 'degree': 3, 'epsilon': 0.5, 'kernel': 'poly'} 0.2926233598162074\n",
      "{'C': 0.1, 'degree': 3, 'epsilon': 0.5, 'kernel': 'rbf'} 0.2926233598162074\n"
     ]
    },
    {
     "name": "stderr",
     "output_type": "stream",
     "text": [
      "/home/hoangbaoan1901/anaconda3/envs/tf-env/lib/python3.12/site-packages/sklearn/utils/validation.py:1339: DataConversionWarning: A column-vector y was passed when a 1d array was expected. Please change the shape of y to (n_samples, ), for example using ravel().\n",
      "  y = column_or_1d(y, warn=True)\n",
      "/home/hoangbaoan1901/anaconda3/envs/tf-env/lib/python3.12/site-packages/sklearn/utils/validation.py:1339: DataConversionWarning: A column-vector y was passed when a 1d array was expected. Please change the shape of y to (n_samples, ), for example using ravel().\n",
      "  y = column_or_1d(y, warn=True)\n",
      "/home/hoangbaoan1901/anaconda3/envs/tf-env/lib/python3.12/site-packages/sklearn/utils/validation.py:1339: DataConversionWarning: A column-vector y was passed when a 1d array was expected. Please change the shape of y to (n_samples, ), for example using ravel().\n",
      "  y = column_or_1d(y, warn=True)\n",
      "/home/hoangbaoan1901/anaconda3/envs/tf-env/lib/python3.12/site-packages/sklearn/utils/validation.py:1339: DataConversionWarning: A column-vector y was passed when a 1d array was expected. Please change the shape of y to (n_samples, ), for example using ravel().\n",
      "  y = column_or_1d(y, warn=True)\n"
     ]
    },
    {
     "name": "stdout",
     "output_type": "stream",
     "text": [
      "{'C': 0.1, 'degree': 3, 'epsilon': 0.5, 'kernel': 'sigmoid'} 0.2926233598162074\n",
      "{'C': 0.1, 'degree': 4, 'epsilon': 0.01, 'kernel': 'linear'} 0.03226890765076646\n"
     ]
    },
    {
     "name": "stderr",
     "output_type": "stream",
     "text": [
      "/home/hoangbaoan1901/anaconda3/envs/tf-env/lib/python3.12/site-packages/sklearn/utils/validation.py:1339: DataConversionWarning: A column-vector y was passed when a 1d array was expected. Please change the shape of y to (n_samples, ), for example using ravel().\n",
      "  y = column_or_1d(y, warn=True)\n"
     ]
    },
    {
     "name": "stdout",
     "output_type": "stream",
     "text": [
      "{'C': 0.1, 'degree': 4, 'epsilon': 0.01, 'kernel': 'poly'} 0.18119565337492977\n",
      "{'C': 0.1, 'degree': 4, 'epsilon': 0.01, 'kernel': 'rbf'} 0.13169062829350708\n"
     ]
    },
    {
     "name": "stderr",
     "output_type": "stream",
     "text": [
      "/home/hoangbaoan1901/anaconda3/envs/tf-env/lib/python3.12/site-packages/sklearn/utils/validation.py:1339: DataConversionWarning: A column-vector y was passed when a 1d array was expected. Please change the shape of y to (n_samples, ), for example using ravel().\n",
      "  y = column_or_1d(y, warn=True)\n",
      "/home/hoangbaoan1901/anaconda3/envs/tf-env/lib/python3.12/site-packages/sklearn/utils/validation.py:1339: DataConversionWarning: A column-vector y was passed when a 1d array was expected. Please change the shape of y to (n_samples, ), for example using ravel().\n",
      "  y = column_or_1d(y, warn=True)\n"
     ]
    },
    {
     "name": "stdout",
     "output_type": "stream",
     "text": [
      "{'C': 0.1, 'degree': 4, 'epsilon': 0.01, 'kernel': 'sigmoid'} 1.855035462794252\n",
      "{'C': 0.1, 'degree': 4, 'epsilon': 0.1, 'kernel': 'linear'} 0.06485069152993304\n",
      "{'C': 0.1, 'degree': 4, 'epsilon': 0.1, 'kernel': 'poly'} 0.2672860150203561\n"
     ]
    },
    {
     "name": "stderr",
     "output_type": "stream",
     "text": [
      "/home/hoangbaoan1901/anaconda3/envs/tf-env/lib/python3.12/site-packages/sklearn/utils/validation.py:1339: DataConversionWarning: A column-vector y was passed when a 1d array was expected. Please change the shape of y to (n_samples, ), for example using ravel().\n",
      "  y = column_or_1d(y, warn=True)\n",
      "/home/hoangbaoan1901/anaconda3/envs/tf-env/lib/python3.12/site-packages/sklearn/utils/validation.py:1339: DataConversionWarning: A column-vector y was passed when a 1d array was expected. Please change the shape of y to (n_samples, ), for example using ravel().\n",
      "  y = column_or_1d(y, warn=True)\n",
      "/home/hoangbaoan1901/anaconda3/envs/tf-env/lib/python3.12/site-packages/sklearn/utils/validation.py:1339: DataConversionWarning: A column-vector y was passed when a 1d array was expected. Please change the shape of y to (n_samples, ), for example using ravel().\n",
      "  y = column_or_1d(y, warn=True)\n"
     ]
    },
    {
     "name": "stdout",
     "output_type": "stream",
     "text": [
      "{'C': 0.1, 'degree': 4, 'epsilon': 0.1, 'kernel': 'rbf'} 0.13374108726568162\n",
      "{'C': 0.1, 'degree': 4, 'epsilon': 0.1, 'kernel': 'sigmoid'} 1.7728256305372914\n"
     ]
    },
    {
     "name": "stderr",
     "output_type": "stream",
     "text": [
      "/home/hoangbaoan1901/anaconda3/envs/tf-env/lib/python3.12/site-packages/sklearn/utils/validation.py:1339: DataConversionWarning: A column-vector y was passed when a 1d array was expected. Please change the shape of y to (n_samples, ), for example using ravel().\n",
      "  y = column_or_1d(y, warn=True)\n",
      "/home/hoangbaoan1901/anaconda3/envs/tf-env/lib/python3.12/site-packages/sklearn/utils/validation.py:1339: DataConversionWarning: A column-vector y was passed when a 1d array was expected. Please change the shape of y to (n_samples, ), for example using ravel().\n",
      "  y = column_or_1d(y, warn=True)\n"
     ]
    },
    {
     "name": "stdout",
     "output_type": "stream",
     "text": [
      "{'C': 0.1, 'degree': 4, 'epsilon': 0.2, 'kernel': 'linear'} 0.09375700005317189\n",
      "{'C': 0.1, 'degree': 4, 'epsilon': 0.2, 'kernel': 'poly'} 0.14811237817281514\n",
      "{'C': 0.1, 'degree': 4, 'epsilon': 0.2, 'kernel': 'rbf'} 0.17845498688040834\n"
     ]
    },
    {
     "name": "stderr",
     "output_type": "stream",
     "text": [
      "/home/hoangbaoan1901/anaconda3/envs/tf-env/lib/python3.12/site-packages/sklearn/utils/validation.py:1339: DataConversionWarning: A column-vector y was passed when a 1d array was expected. Please change the shape of y to (n_samples, ), for example using ravel().\n",
      "  y = column_or_1d(y, warn=True)\n",
      "/home/hoangbaoan1901/anaconda3/envs/tf-env/lib/python3.12/site-packages/sklearn/utils/validation.py:1339: DataConversionWarning: A column-vector y was passed when a 1d array was expected. Please change the shape of y to (n_samples, ), for example using ravel().\n",
      "  y = column_or_1d(y, warn=True)\n",
      "/home/hoangbaoan1901/anaconda3/envs/tf-env/lib/python3.12/site-packages/sklearn/utils/validation.py:1339: DataConversionWarning: A column-vector y was passed when a 1d array was expected. Please change the shape of y to (n_samples, ), for example using ravel().\n",
      "  y = column_or_1d(y, warn=True)\n"
     ]
    },
    {
     "name": "stdout",
     "output_type": "stream",
     "text": [
      "{'C': 0.1, 'degree': 4, 'epsilon': 0.2, 'kernel': 'sigmoid'} 1.6495426848847774\n",
      "{'C': 0.1, 'degree': 4, 'epsilon': 0.5, 'kernel': 'linear'} 0.2926233598162074\n",
      "{'C': 0.1, 'degree': 4, 'epsilon': 0.5, 'kernel': 'poly'} 0.2926233598162074\n",
      "{'C': 0.1, 'degree': 4, 'epsilon': 0.5, 'kernel': 'rbf'} 0.2926233598162074\n"
     ]
    },
    {
     "name": "stderr",
     "output_type": "stream",
     "text": [
      "/home/hoangbaoan1901/anaconda3/envs/tf-env/lib/python3.12/site-packages/sklearn/utils/validation.py:1339: DataConversionWarning: A column-vector y was passed when a 1d array was expected. Please change the shape of y to (n_samples, ), for example using ravel().\n",
      "  y = column_or_1d(y, warn=True)\n",
      "/home/hoangbaoan1901/anaconda3/envs/tf-env/lib/python3.12/site-packages/sklearn/utils/validation.py:1339: DataConversionWarning: A column-vector y was passed when a 1d array was expected. Please change the shape of y to (n_samples, ), for example using ravel().\n",
      "  y = column_or_1d(y, warn=True)\n",
      "/home/hoangbaoan1901/anaconda3/envs/tf-env/lib/python3.12/site-packages/sklearn/utils/validation.py:1339: DataConversionWarning: A column-vector y was passed when a 1d array was expected. Please change the shape of y to (n_samples, ), for example using ravel().\n",
      "  y = column_or_1d(y, warn=True)\n",
      "/home/hoangbaoan1901/anaconda3/envs/tf-env/lib/python3.12/site-packages/sklearn/utils/validation.py:1339: DataConversionWarning: A column-vector y was passed when a 1d array was expected. Please change the shape of y to (n_samples, ), for example using ravel().\n",
      "  y = column_or_1d(y, warn=True)\n",
      "/home/hoangbaoan1901/anaconda3/envs/tf-env/lib/python3.12/site-packages/sklearn/utils/validation.py:1339: DataConversionWarning: A column-vector y was passed when a 1d array was expected. Please change the shape of y to (n_samples, ), for example using ravel().\n",
      "  y = column_or_1d(y, warn=True)\n",
      "/home/hoangbaoan1901/anaconda3/envs/tf-env/lib/python3.12/site-packages/sklearn/utils/validation.py:1339: DataConversionWarning: A column-vector y was passed when a 1d array was expected. Please change the shape of y to (n_samples, ), for example using ravel().\n",
      "  y = column_or_1d(y, warn=True)\n"
     ]
    },
    {
     "name": "stdout",
     "output_type": "stream",
     "text": [
      "{'C': 0.1, 'degree': 4, 'epsilon': 0.5, 'kernel': 'sigmoid'} 0.2926233598162074\n",
      "{'C': 0.1, 'degree': 5, 'epsilon': 0.01, 'kernel': 'linear'} 0.03226890765076646\n",
      "{'C': 0.1, 'degree': 5, 'epsilon': 0.01, 'kernel': 'poly'} 0.12836087151767533\n",
      "{'C': 0.1, 'degree': 5, 'epsilon': 0.01, 'kernel': 'rbf'} 0.13169062829350708\n"
     ]
    },
    {
     "name": "stderr",
     "output_type": "stream",
     "text": [
      "/home/hoangbaoan1901/anaconda3/envs/tf-env/lib/python3.12/site-packages/sklearn/utils/validation.py:1339: DataConversionWarning: A column-vector y was passed when a 1d array was expected. Please change the shape of y to (n_samples, ), for example using ravel().\n",
      "  y = column_or_1d(y, warn=True)\n",
      "/home/hoangbaoan1901/anaconda3/envs/tf-env/lib/python3.12/site-packages/sklearn/utils/validation.py:1339: DataConversionWarning: A column-vector y was passed when a 1d array was expected. Please change the shape of y to (n_samples, ), for example using ravel().\n",
      "  y = column_or_1d(y, warn=True)\n"
     ]
    },
    {
     "name": "stdout",
     "output_type": "stream",
     "text": [
      "{'C': 0.1, 'degree': 5, 'epsilon': 0.01, 'kernel': 'sigmoid'} 1.855035462794252\n",
      "{'C': 0.1, 'degree': 5, 'epsilon': 0.1, 'kernel': 'linear'} 0.06485069152993304\n",
      "{'C': 0.1, 'degree': 5, 'epsilon': 0.1, 'kernel': 'poly'} 0.3762707802881136\n"
     ]
    },
    {
     "name": "stderr",
     "output_type": "stream",
     "text": [
      "/home/hoangbaoan1901/anaconda3/envs/tf-env/lib/python3.12/site-packages/sklearn/utils/validation.py:1339: DataConversionWarning: A column-vector y was passed when a 1d array was expected. Please change the shape of y to (n_samples, ), for example using ravel().\n",
      "  y = column_or_1d(y, warn=True)\n",
      "/home/hoangbaoan1901/anaconda3/envs/tf-env/lib/python3.12/site-packages/sklearn/utils/validation.py:1339: DataConversionWarning: A column-vector y was passed when a 1d array was expected. Please change the shape of y to (n_samples, ), for example using ravel().\n",
      "  y = column_or_1d(y, warn=True)\n",
      "/home/hoangbaoan1901/anaconda3/envs/tf-env/lib/python3.12/site-packages/sklearn/utils/validation.py:1339: DataConversionWarning: A column-vector y was passed when a 1d array was expected. Please change the shape of y to (n_samples, ), for example using ravel().\n",
      "  y = column_or_1d(y, warn=True)\n"
     ]
    },
    {
     "name": "stdout",
     "output_type": "stream",
     "text": [
      "{'C': 0.1, 'degree': 5, 'epsilon': 0.1, 'kernel': 'rbf'} 0.13374108726568162\n",
      "{'C': 0.1, 'degree': 5, 'epsilon': 0.1, 'kernel': 'sigmoid'} 1.7728256305372914\n"
     ]
    },
    {
     "name": "stderr",
     "output_type": "stream",
     "text": [
      "/home/hoangbaoan1901/anaconda3/envs/tf-env/lib/python3.12/site-packages/sklearn/utils/validation.py:1339: DataConversionWarning: A column-vector y was passed when a 1d array was expected. Please change the shape of y to (n_samples, ), for example using ravel().\n",
      "  y = column_or_1d(y, warn=True)\n",
      "/home/hoangbaoan1901/anaconda3/envs/tf-env/lib/python3.12/site-packages/sklearn/utils/validation.py:1339: DataConversionWarning: A column-vector y was passed when a 1d array was expected. Please change the shape of y to (n_samples, ), for example using ravel().\n",
      "  y = column_or_1d(y, warn=True)\n"
     ]
    },
    {
     "name": "stdout",
     "output_type": "stream",
     "text": [
      "{'C': 0.1, 'degree': 5, 'epsilon': 0.2, 'kernel': 'linear'} 0.09375700005317189\n",
      "{'C': 0.1, 'degree': 5, 'epsilon': 0.2, 'kernel': 'poly'} 0.20162716584478063\n",
      "{'C': 0.1, 'degree': 5, 'epsilon': 0.2, 'kernel': 'rbf'} 0.17845498688040834\n"
     ]
    },
    {
     "name": "stderr",
     "output_type": "stream",
     "text": [
      "/home/hoangbaoan1901/anaconda3/envs/tf-env/lib/python3.12/site-packages/sklearn/utils/validation.py:1339: DataConversionWarning: A column-vector y was passed when a 1d array was expected. Please change the shape of y to (n_samples, ), for example using ravel().\n",
      "  y = column_or_1d(y, warn=True)\n",
      "/home/hoangbaoan1901/anaconda3/envs/tf-env/lib/python3.12/site-packages/sklearn/utils/validation.py:1339: DataConversionWarning: A column-vector y was passed when a 1d array was expected. Please change the shape of y to (n_samples, ), for example using ravel().\n",
      "  y = column_or_1d(y, warn=True)\n",
      "/home/hoangbaoan1901/anaconda3/envs/tf-env/lib/python3.12/site-packages/sklearn/utils/validation.py:1339: DataConversionWarning: A column-vector y was passed when a 1d array was expected. Please change the shape of y to (n_samples, ), for example using ravel().\n",
      "  y = column_or_1d(y, warn=True)\n"
     ]
    },
    {
     "name": "stdout",
     "output_type": "stream",
     "text": [
      "{'C': 0.1, 'degree': 5, 'epsilon': 0.2, 'kernel': 'sigmoid'} 1.6495426848847774\n",
      "{'C': 0.1, 'degree': 5, 'epsilon': 0.5, 'kernel': 'linear'} 0.2926233598162074\n",
      "{'C': 0.1, 'degree': 5, 'epsilon': 0.5, 'kernel': 'poly'} 0.2926233598162074\n",
      "{'C': 0.1, 'degree': 5, 'epsilon': 0.5, 'kernel': 'rbf'} 0.2926233598162074\n"
     ]
    },
    {
     "name": "stderr",
     "output_type": "stream",
     "text": [
      "/home/hoangbaoan1901/anaconda3/envs/tf-env/lib/python3.12/site-packages/sklearn/utils/validation.py:1339: DataConversionWarning: A column-vector y was passed when a 1d array was expected. Please change the shape of y to (n_samples, ), for example using ravel().\n",
      "  y = column_or_1d(y, warn=True)\n",
      "/home/hoangbaoan1901/anaconda3/envs/tf-env/lib/python3.12/site-packages/sklearn/utils/validation.py:1339: DataConversionWarning: A column-vector y was passed when a 1d array was expected. Please change the shape of y to (n_samples, ), for example using ravel().\n",
      "  y = column_or_1d(y, warn=True)\n",
      "/home/hoangbaoan1901/anaconda3/envs/tf-env/lib/python3.12/site-packages/sklearn/utils/validation.py:1339: DataConversionWarning: A column-vector y was passed when a 1d array was expected. Please change the shape of y to (n_samples, ), for example using ravel().\n",
      "  y = column_or_1d(y, warn=True)\n",
      "/home/hoangbaoan1901/anaconda3/envs/tf-env/lib/python3.12/site-packages/sklearn/utils/validation.py:1339: DataConversionWarning: A column-vector y was passed when a 1d array was expected. Please change the shape of y to (n_samples, ), for example using ravel().\n",
      "  y = column_or_1d(y, warn=True)\n"
     ]
    },
    {
     "name": "stdout",
     "output_type": "stream",
     "text": [
      "{'C': 0.1, 'degree': 5, 'epsilon': 0.5, 'kernel': 'sigmoid'} 0.2926233598162074\n",
      "{'C': 1, 'degree': 2, 'epsilon': 0.01, 'kernel': 'linear'} 0.03029898832257673\n"
     ]
    },
    {
     "name": "stderr",
     "output_type": "stream",
     "text": [
      "/home/hoangbaoan1901/anaconda3/envs/tf-env/lib/python3.12/site-packages/sklearn/utils/validation.py:1339: DataConversionWarning: A column-vector y was passed when a 1d array was expected. Please change the shape of y to (n_samples, ), for example using ravel().\n",
      "  y = column_or_1d(y, warn=True)\n",
      "/home/hoangbaoan1901/anaconda3/envs/tf-env/lib/python3.12/site-packages/sklearn/utils/validation.py:1339: DataConversionWarning: A column-vector y was passed when a 1d array was expected. Please change the shape of y to (n_samples, ), for example using ravel().\n",
      "  y = column_or_1d(y, warn=True)\n"
     ]
    },
    {
     "name": "stdout",
     "output_type": "stream",
     "text": [
      "{'C': 1, 'degree': 2, 'epsilon': 0.01, 'kernel': 'poly'} 0.08641949083417393\n",
      "{'C': 1, 'degree': 2, 'epsilon': 0.01, 'kernel': 'rbf'} 0.13906679251676166\n"
     ]
    },
    {
     "name": "stderr",
     "output_type": "stream",
     "text": [
      "/home/hoangbaoan1901/anaconda3/envs/tf-env/lib/python3.12/site-packages/sklearn/utils/validation.py:1339: DataConversionWarning: A column-vector y was passed when a 1d array was expected. Please change the shape of y to (n_samples, ), for example using ravel().\n",
      "  y = column_or_1d(y, warn=True)\n",
      "/home/hoangbaoan1901/anaconda3/envs/tf-env/lib/python3.12/site-packages/sklearn/utils/validation.py:1339: DataConversionWarning: A column-vector y was passed when a 1d array was expected. Please change the shape of y to (n_samples, ), for example using ravel().\n",
      "  y = column_or_1d(y, warn=True)\n"
     ]
    },
    {
     "name": "stdout",
     "output_type": "stream",
     "text": [
      "{'C': 1, 'degree': 2, 'epsilon': 0.01, 'kernel': 'sigmoid'} 12.643873392084723\n",
      "{'C': 1, 'degree': 2, 'epsilon': 0.1, 'kernel': 'linear'} 0.06509079947248915\n",
      "{'C': 1, 'degree': 2, 'epsilon': 0.1, 'kernel': 'poly'} 0.10727156856864961\n",
      "{'C': 1, 'degree': 2, 'epsilon': 0.1, 'kernel': 'rbf'} 0.1311273569816113\n"
     ]
    },
    {
     "name": "stderr",
     "output_type": "stream",
     "text": [
      "/home/hoangbaoan1901/anaconda3/envs/tf-env/lib/python3.12/site-packages/sklearn/utils/validation.py:1339: DataConversionWarning: A column-vector y was passed when a 1d array was expected. Please change the shape of y to (n_samples, ), for example using ravel().\n",
      "  y = column_or_1d(y, warn=True)\n",
      "/home/hoangbaoan1901/anaconda3/envs/tf-env/lib/python3.12/site-packages/sklearn/utils/validation.py:1339: DataConversionWarning: A column-vector y was passed when a 1d array was expected. Please change the shape of y to (n_samples, ), for example using ravel().\n",
      "  y = column_or_1d(y, warn=True)\n",
      "/home/hoangbaoan1901/anaconda3/envs/tf-env/lib/python3.12/site-packages/sklearn/utils/validation.py:1339: DataConversionWarning: A column-vector y was passed when a 1d array was expected. Please change the shape of y to (n_samples, ), for example using ravel().\n",
      "  y = column_or_1d(y, warn=True)\n",
      "/home/hoangbaoan1901/anaconda3/envs/tf-env/lib/python3.12/site-packages/sklearn/utils/validation.py:1339: DataConversionWarning: A column-vector y was passed when a 1d array was expected. Please change the shape of y to (n_samples, ), for example using ravel().\n",
      "  y = column_or_1d(y, warn=True)\n"
     ]
    },
    {
     "name": "stdout",
     "output_type": "stream",
     "text": [
      "{'C': 1, 'degree': 2, 'epsilon': 0.1, 'kernel': 'sigmoid'} 12.650721901962362\n",
      "{'C': 1, 'degree': 2, 'epsilon': 0.2, 'kernel': 'linear'} 0.09375700005317189\n",
      "{'C': 1, 'degree': 2, 'epsilon': 0.2, 'kernel': 'poly'} 0.10507359435508809\n",
      "{'C': 1, 'degree': 2, 'epsilon': 0.2, 'kernel': 'rbf'} 0.1743694193247108\n"
     ]
    },
    {
     "name": "stderr",
     "output_type": "stream",
     "text": [
      "/home/hoangbaoan1901/anaconda3/envs/tf-env/lib/python3.12/site-packages/sklearn/utils/validation.py:1339: DataConversionWarning: A column-vector y was passed when a 1d array was expected. Please change the shape of y to (n_samples, ), for example using ravel().\n",
      "  y = column_or_1d(y, warn=True)\n",
      "/home/hoangbaoan1901/anaconda3/envs/tf-env/lib/python3.12/site-packages/sklearn/utils/validation.py:1339: DataConversionWarning: A column-vector y was passed when a 1d array was expected. Please change the shape of y to (n_samples, ), for example using ravel().\n",
      "  y = column_or_1d(y, warn=True)\n",
      "/home/hoangbaoan1901/anaconda3/envs/tf-env/lib/python3.12/site-packages/sklearn/utils/validation.py:1339: DataConversionWarning: A column-vector y was passed when a 1d array was expected. Please change the shape of y to (n_samples, ), for example using ravel().\n",
      "  y = column_or_1d(y, warn=True)\n",
      "/home/hoangbaoan1901/anaconda3/envs/tf-env/lib/python3.12/site-packages/sklearn/utils/validation.py:1339: DataConversionWarning: A column-vector y was passed when a 1d array was expected. Please change the shape of y to (n_samples, ), for example using ravel().\n",
      "  y = column_or_1d(y, warn=True)\n"
     ]
    },
    {
     "name": "stdout",
     "output_type": "stream",
     "text": [
      "{'C': 1, 'degree': 2, 'epsilon': 0.2, 'kernel': 'sigmoid'} 12.618077801814632\n",
      "{'C': 1, 'degree': 2, 'epsilon': 0.5, 'kernel': 'linear'} 0.2926233598162074\n",
      "{'C': 1, 'degree': 2, 'epsilon': 0.5, 'kernel': 'poly'} 0.2926233598162074\n",
      "{'C': 1, 'degree': 2, 'epsilon': 0.5, 'kernel': 'rbf'} 0.2926233598162074\n"
     ]
    },
    {
     "name": "stderr",
     "output_type": "stream",
     "text": [
      "/home/hoangbaoan1901/anaconda3/envs/tf-env/lib/python3.12/site-packages/sklearn/utils/validation.py:1339: DataConversionWarning: A column-vector y was passed when a 1d array was expected. Please change the shape of y to (n_samples, ), for example using ravel().\n",
      "  y = column_or_1d(y, warn=True)\n",
      "/home/hoangbaoan1901/anaconda3/envs/tf-env/lib/python3.12/site-packages/sklearn/utils/validation.py:1339: DataConversionWarning: A column-vector y was passed when a 1d array was expected. Please change the shape of y to (n_samples, ), for example using ravel().\n",
      "  y = column_or_1d(y, warn=True)\n",
      "/home/hoangbaoan1901/anaconda3/envs/tf-env/lib/python3.12/site-packages/sklearn/utils/validation.py:1339: DataConversionWarning: A column-vector y was passed when a 1d array was expected. Please change the shape of y to (n_samples, ), for example using ravel().\n",
      "  y = column_or_1d(y, warn=True)\n",
      "/home/hoangbaoan1901/anaconda3/envs/tf-env/lib/python3.12/site-packages/sklearn/utils/validation.py:1339: DataConversionWarning: A column-vector y was passed when a 1d array was expected. Please change the shape of y to (n_samples, ), for example using ravel().\n",
      "  y = column_or_1d(y, warn=True)\n"
     ]
    },
    {
     "name": "stdout",
     "output_type": "stream",
     "text": [
      "{'C': 1, 'degree': 2, 'epsilon': 0.5, 'kernel': 'sigmoid'} 0.2926233598162074\n",
      "{'C': 1, 'degree': 3, 'epsilon': 0.01, 'kernel': 'linear'} 0.03029898832257673\n"
     ]
    },
    {
     "name": "stderr",
     "output_type": "stream",
     "text": [
      "/home/hoangbaoan1901/anaconda3/envs/tf-env/lib/python3.12/site-packages/sklearn/utils/validation.py:1339: DataConversionWarning: A column-vector y was passed when a 1d array was expected. Please change the shape of y to (n_samples, ), for example using ravel().\n",
      "  y = column_or_1d(y, warn=True)\n",
      "/home/hoangbaoan1901/anaconda3/envs/tf-env/lib/python3.12/site-packages/sklearn/utils/validation.py:1339: DataConversionWarning: A column-vector y was passed when a 1d array was expected. Please change the shape of y to (n_samples, ), for example using ravel().\n",
      "  y = column_or_1d(y, warn=True)\n"
     ]
    },
    {
     "name": "stdout",
     "output_type": "stream",
     "text": [
      "{'C': 1, 'degree': 3, 'epsilon': 0.01, 'kernel': 'poly'} 0.13118304485952187\n",
      "{'C': 1, 'degree': 3, 'epsilon': 0.01, 'kernel': 'rbf'} 0.13906679251676166\n"
     ]
    },
    {
     "name": "stderr",
     "output_type": "stream",
     "text": [
      "/home/hoangbaoan1901/anaconda3/envs/tf-env/lib/python3.12/site-packages/sklearn/utils/validation.py:1339: DataConversionWarning: A column-vector y was passed when a 1d array was expected. Please change the shape of y to (n_samples, ), for example using ravel().\n",
      "  y = column_or_1d(y, warn=True)\n",
      "/home/hoangbaoan1901/anaconda3/envs/tf-env/lib/python3.12/site-packages/sklearn/utils/validation.py:1339: DataConversionWarning: A column-vector y was passed when a 1d array was expected. Please change the shape of y to (n_samples, ), for example using ravel().\n",
      "  y = column_or_1d(y, warn=True)\n"
     ]
    },
    {
     "name": "stdout",
     "output_type": "stream",
     "text": [
      "{'C': 1, 'degree': 3, 'epsilon': 0.01, 'kernel': 'sigmoid'} 12.643873392084723\n",
      "{'C': 1, 'degree': 3, 'epsilon': 0.1, 'kernel': 'linear'} 0.06509079947248915\n",
      "{'C': 1, 'degree': 3, 'epsilon': 0.1, 'kernel': 'poly'} 0.19299205090049\n",
      "{'C': 1, 'degree': 3, 'epsilon': 0.1, 'kernel': 'rbf'} 0.1311273569816113\n"
     ]
    },
    {
     "name": "stderr",
     "output_type": "stream",
     "text": [
      "/home/hoangbaoan1901/anaconda3/envs/tf-env/lib/python3.12/site-packages/sklearn/utils/validation.py:1339: DataConversionWarning: A column-vector y was passed when a 1d array was expected. Please change the shape of y to (n_samples, ), for example using ravel().\n",
      "  y = column_or_1d(y, warn=True)\n",
      "/home/hoangbaoan1901/anaconda3/envs/tf-env/lib/python3.12/site-packages/sklearn/utils/validation.py:1339: DataConversionWarning: A column-vector y was passed when a 1d array was expected. Please change the shape of y to (n_samples, ), for example using ravel().\n",
      "  y = column_or_1d(y, warn=True)\n",
      "/home/hoangbaoan1901/anaconda3/envs/tf-env/lib/python3.12/site-packages/sklearn/utils/validation.py:1339: DataConversionWarning: A column-vector y was passed when a 1d array was expected. Please change the shape of y to (n_samples, ), for example using ravel().\n",
      "  y = column_or_1d(y, warn=True)\n",
      "/home/hoangbaoan1901/anaconda3/envs/tf-env/lib/python3.12/site-packages/sklearn/utils/validation.py:1339: DataConversionWarning: A column-vector y was passed when a 1d array was expected. Please change the shape of y to (n_samples, ), for example using ravel().\n",
      "  y = column_or_1d(y, warn=True)\n"
     ]
    },
    {
     "name": "stdout",
     "output_type": "stream",
     "text": [
      "{'C': 1, 'degree': 3, 'epsilon': 0.1, 'kernel': 'sigmoid'} 12.650721901962362\n",
      "{'C': 1, 'degree': 3, 'epsilon': 0.2, 'kernel': 'linear'} 0.09375700005317189\n",
      "{'C': 1, 'degree': 3, 'epsilon': 0.2, 'kernel': 'poly'} 0.1188457079274804\n",
      "{'C': 1, 'degree': 3, 'epsilon': 0.2, 'kernel': 'rbf'} 0.1743694193247108\n"
     ]
    },
    {
     "name": "stderr",
     "output_type": "stream",
     "text": [
      "/home/hoangbaoan1901/anaconda3/envs/tf-env/lib/python3.12/site-packages/sklearn/utils/validation.py:1339: DataConversionWarning: A column-vector y was passed when a 1d array was expected. Please change the shape of y to (n_samples, ), for example using ravel().\n",
      "  y = column_or_1d(y, warn=True)\n",
      "/home/hoangbaoan1901/anaconda3/envs/tf-env/lib/python3.12/site-packages/sklearn/utils/validation.py:1339: DataConversionWarning: A column-vector y was passed when a 1d array was expected. Please change the shape of y to (n_samples, ), for example using ravel().\n",
      "  y = column_or_1d(y, warn=True)\n",
      "/home/hoangbaoan1901/anaconda3/envs/tf-env/lib/python3.12/site-packages/sklearn/utils/validation.py:1339: DataConversionWarning: A column-vector y was passed when a 1d array was expected. Please change the shape of y to (n_samples, ), for example using ravel().\n",
      "  y = column_or_1d(y, warn=True)\n",
      "/home/hoangbaoan1901/anaconda3/envs/tf-env/lib/python3.12/site-packages/sklearn/utils/validation.py:1339: DataConversionWarning: A column-vector y was passed when a 1d array was expected. Please change the shape of y to (n_samples, ), for example using ravel().\n",
      "  y = column_or_1d(y, warn=True)\n"
     ]
    },
    {
     "name": "stdout",
     "output_type": "stream",
     "text": [
      "{'C': 1, 'degree': 3, 'epsilon': 0.2, 'kernel': 'sigmoid'} 12.618077801814632\n",
      "{'C': 1, 'degree': 3, 'epsilon': 0.5, 'kernel': 'linear'} 0.2926233598162074\n",
      "{'C': 1, 'degree': 3, 'epsilon': 0.5, 'kernel': 'poly'} 0.2926233598162074\n",
      "{'C': 1, 'degree': 3, 'epsilon': 0.5, 'kernel': 'rbf'} 0.2926233598162074\n"
     ]
    },
    {
     "name": "stderr",
     "output_type": "stream",
     "text": [
      "/home/hoangbaoan1901/anaconda3/envs/tf-env/lib/python3.12/site-packages/sklearn/utils/validation.py:1339: DataConversionWarning: A column-vector y was passed when a 1d array was expected. Please change the shape of y to (n_samples, ), for example using ravel().\n",
      "  y = column_or_1d(y, warn=True)\n",
      "/home/hoangbaoan1901/anaconda3/envs/tf-env/lib/python3.12/site-packages/sklearn/utils/validation.py:1339: DataConversionWarning: A column-vector y was passed when a 1d array was expected. Please change the shape of y to (n_samples, ), for example using ravel().\n",
      "  y = column_or_1d(y, warn=True)\n",
      "/home/hoangbaoan1901/anaconda3/envs/tf-env/lib/python3.12/site-packages/sklearn/utils/validation.py:1339: DataConversionWarning: A column-vector y was passed when a 1d array was expected. Please change the shape of y to (n_samples, ), for example using ravel().\n",
      "  y = column_or_1d(y, warn=True)\n",
      "/home/hoangbaoan1901/anaconda3/envs/tf-env/lib/python3.12/site-packages/sklearn/utils/validation.py:1339: DataConversionWarning: A column-vector y was passed when a 1d array was expected. Please change the shape of y to (n_samples, ), for example using ravel().\n",
      "  y = column_or_1d(y, warn=True)\n"
     ]
    },
    {
     "name": "stdout",
     "output_type": "stream",
     "text": [
      "{'C': 1, 'degree': 3, 'epsilon': 0.5, 'kernel': 'sigmoid'} 0.2926233598162074\n"
     ]
    },
    {
     "name": "stderr",
     "output_type": "stream",
     "text": [
      "/home/hoangbaoan1901/anaconda3/envs/tf-env/lib/python3.12/site-packages/sklearn/utils/validation.py:1339: DataConversionWarning: A column-vector y was passed when a 1d array was expected. Please change the shape of y to (n_samples, ), for example using ravel().\n",
      "  y = column_or_1d(y, warn=True)\n"
     ]
    },
    {
     "name": "stdout",
     "output_type": "stream",
     "text": [
      "{'C': 1, 'degree': 4, 'epsilon': 0.01, 'kernel': 'linear'} 0.03029898832257673\n"
     ]
    },
    {
     "name": "stderr",
     "output_type": "stream",
     "text": [
      "/home/hoangbaoan1901/anaconda3/envs/tf-env/lib/python3.12/site-packages/sklearn/utils/validation.py:1339: DataConversionWarning: A column-vector y was passed when a 1d array was expected. Please change the shape of y to (n_samples, ), for example using ravel().\n",
      "  y = column_or_1d(y, warn=True)\n"
     ]
    },
    {
     "name": "stdout",
     "output_type": "stream",
     "text": [
      "{'C': 1, 'degree': 4, 'epsilon': 0.01, 'kernel': 'poly'} 0.11799825976986193\n",
      "{'C': 1, 'degree': 4, 'epsilon': 0.01, 'kernel': 'rbf'} 0.13906679251676166\n"
     ]
    },
    {
     "name": "stderr",
     "output_type": "stream",
     "text": [
      "/home/hoangbaoan1901/anaconda3/envs/tf-env/lib/python3.12/site-packages/sklearn/utils/validation.py:1339: DataConversionWarning: A column-vector y was passed when a 1d array was expected. Please change the shape of y to (n_samples, ), for example using ravel().\n",
      "  y = column_or_1d(y, warn=True)\n",
      "/home/hoangbaoan1901/anaconda3/envs/tf-env/lib/python3.12/site-packages/sklearn/utils/validation.py:1339: DataConversionWarning: A column-vector y was passed when a 1d array was expected. Please change the shape of y to (n_samples, ), for example using ravel().\n",
      "  y = column_or_1d(y, warn=True)\n"
     ]
    },
    {
     "name": "stdout",
     "output_type": "stream",
     "text": [
      "{'C': 1, 'degree': 4, 'epsilon': 0.01, 'kernel': 'sigmoid'} 12.643873392084723\n",
      "{'C': 1, 'degree': 4, 'epsilon': 0.1, 'kernel': 'linear'} 0.06509079947248915\n",
      "{'C': 1, 'degree': 4, 'epsilon': 0.1, 'kernel': 'poly'} 0.2672860150203561\n",
      "{'C': 1, 'degree': 4, 'epsilon': 0.1, 'kernel': 'rbf'} 0.1311273569816113\n"
     ]
    },
    {
     "name": "stderr",
     "output_type": "stream",
     "text": [
      "/home/hoangbaoan1901/anaconda3/envs/tf-env/lib/python3.12/site-packages/sklearn/utils/validation.py:1339: DataConversionWarning: A column-vector y was passed when a 1d array was expected. Please change the shape of y to (n_samples, ), for example using ravel().\n",
      "  y = column_or_1d(y, warn=True)\n",
      "/home/hoangbaoan1901/anaconda3/envs/tf-env/lib/python3.12/site-packages/sklearn/utils/validation.py:1339: DataConversionWarning: A column-vector y was passed when a 1d array was expected. Please change the shape of y to (n_samples, ), for example using ravel().\n",
      "  y = column_or_1d(y, warn=True)\n",
      "/home/hoangbaoan1901/anaconda3/envs/tf-env/lib/python3.12/site-packages/sklearn/utils/validation.py:1339: DataConversionWarning: A column-vector y was passed when a 1d array was expected. Please change the shape of y to (n_samples, ), for example using ravel().\n",
      "  y = column_or_1d(y, warn=True)\n",
      "/home/hoangbaoan1901/anaconda3/envs/tf-env/lib/python3.12/site-packages/sklearn/utils/validation.py:1339: DataConversionWarning: A column-vector y was passed when a 1d array was expected. Please change the shape of y to (n_samples, ), for example using ravel().\n",
      "  y = column_or_1d(y, warn=True)\n"
     ]
    },
    {
     "name": "stdout",
     "output_type": "stream",
     "text": [
      "{'C': 1, 'degree': 4, 'epsilon': 0.1, 'kernel': 'sigmoid'} 12.650721901962362\n",
      "{'C': 1, 'degree': 4, 'epsilon': 0.2, 'kernel': 'linear'} 0.09375700005317189\n",
      "{'C': 1, 'degree': 4, 'epsilon': 0.2, 'kernel': 'poly'} 0.14811237817281514\n",
      "{'C': 1, 'degree': 4, 'epsilon': 0.2, 'kernel': 'rbf'} 0.1743694193247108\n"
     ]
    },
    {
     "name": "stderr",
     "output_type": "stream",
     "text": [
      "/home/hoangbaoan1901/anaconda3/envs/tf-env/lib/python3.12/site-packages/sklearn/utils/validation.py:1339: DataConversionWarning: A column-vector y was passed when a 1d array was expected. Please change the shape of y to (n_samples, ), for example using ravel().\n",
      "  y = column_or_1d(y, warn=True)\n",
      "/home/hoangbaoan1901/anaconda3/envs/tf-env/lib/python3.12/site-packages/sklearn/utils/validation.py:1339: DataConversionWarning: A column-vector y was passed when a 1d array was expected. Please change the shape of y to (n_samples, ), for example using ravel().\n",
      "  y = column_or_1d(y, warn=True)\n",
      "/home/hoangbaoan1901/anaconda3/envs/tf-env/lib/python3.12/site-packages/sklearn/utils/validation.py:1339: DataConversionWarning: A column-vector y was passed when a 1d array was expected. Please change the shape of y to (n_samples, ), for example using ravel().\n",
      "  y = column_or_1d(y, warn=True)\n",
      "/home/hoangbaoan1901/anaconda3/envs/tf-env/lib/python3.12/site-packages/sklearn/utils/validation.py:1339: DataConversionWarning: A column-vector y was passed when a 1d array was expected. Please change the shape of y to (n_samples, ), for example using ravel().\n",
      "  y = column_or_1d(y, warn=True)\n"
     ]
    },
    {
     "name": "stdout",
     "output_type": "stream",
     "text": [
      "{'C': 1, 'degree': 4, 'epsilon': 0.2, 'kernel': 'sigmoid'} 12.618077801814632\n",
      "{'C': 1, 'degree': 4, 'epsilon': 0.5, 'kernel': 'linear'} 0.2926233598162074\n",
      "{'C': 1, 'degree': 4, 'epsilon': 0.5, 'kernel': 'poly'} 0.2926233598162074\n",
      "{'C': 1, 'degree': 4, 'epsilon': 0.5, 'kernel': 'rbf'} 0.2926233598162074\n"
     ]
    },
    {
     "name": "stderr",
     "output_type": "stream",
     "text": [
      "/home/hoangbaoan1901/anaconda3/envs/tf-env/lib/python3.12/site-packages/sklearn/utils/validation.py:1339: DataConversionWarning: A column-vector y was passed when a 1d array was expected. Please change the shape of y to (n_samples, ), for example using ravel().\n",
      "  y = column_or_1d(y, warn=True)\n",
      "/home/hoangbaoan1901/anaconda3/envs/tf-env/lib/python3.12/site-packages/sklearn/utils/validation.py:1339: DataConversionWarning: A column-vector y was passed when a 1d array was expected. Please change the shape of y to (n_samples, ), for example using ravel().\n",
      "  y = column_or_1d(y, warn=True)\n",
      "/home/hoangbaoan1901/anaconda3/envs/tf-env/lib/python3.12/site-packages/sklearn/utils/validation.py:1339: DataConversionWarning: A column-vector y was passed when a 1d array was expected. Please change the shape of y to (n_samples, ), for example using ravel().\n",
      "  y = column_or_1d(y, warn=True)\n",
      "/home/hoangbaoan1901/anaconda3/envs/tf-env/lib/python3.12/site-packages/sklearn/utils/validation.py:1339: DataConversionWarning: A column-vector y was passed when a 1d array was expected. Please change the shape of y to (n_samples, ), for example using ravel().\n",
      "  y = column_or_1d(y, warn=True)\n"
     ]
    },
    {
     "name": "stdout",
     "output_type": "stream",
     "text": [
      "{'C': 1, 'degree': 4, 'epsilon': 0.5, 'kernel': 'sigmoid'} 0.2926233598162074\n",
      "{'C': 1, 'degree': 5, 'epsilon': 0.01, 'kernel': 'linear'} 0.03029898832257673\n"
     ]
    },
    {
     "name": "stderr",
     "output_type": "stream",
     "text": [
      "/home/hoangbaoan1901/anaconda3/envs/tf-env/lib/python3.12/site-packages/sklearn/utils/validation.py:1339: DataConversionWarning: A column-vector y was passed when a 1d array was expected. Please change the shape of y to (n_samples, ), for example using ravel().\n",
      "  y = column_or_1d(y, warn=True)\n",
      "/home/hoangbaoan1901/anaconda3/envs/tf-env/lib/python3.12/site-packages/sklearn/utils/validation.py:1339: DataConversionWarning: A column-vector y was passed when a 1d array was expected. Please change the shape of y to (n_samples, ), for example using ravel().\n",
      "  y = column_or_1d(y, warn=True)\n"
     ]
    },
    {
     "name": "stdout",
     "output_type": "stream",
     "text": [
      "{'C': 1, 'degree': 5, 'epsilon': 0.01, 'kernel': 'poly'} 0.12679029374574888\n",
      "{'C': 1, 'degree': 5, 'epsilon': 0.01, 'kernel': 'rbf'} 0.13906679251676166\n"
     ]
    },
    {
     "name": "stderr",
     "output_type": "stream",
     "text": [
      "/home/hoangbaoan1901/anaconda3/envs/tf-env/lib/python3.12/site-packages/sklearn/utils/validation.py:1339: DataConversionWarning: A column-vector y was passed when a 1d array was expected. Please change the shape of y to (n_samples, ), for example using ravel().\n",
      "  y = column_or_1d(y, warn=True)\n",
      "/home/hoangbaoan1901/anaconda3/envs/tf-env/lib/python3.12/site-packages/sklearn/utils/validation.py:1339: DataConversionWarning: A column-vector y was passed when a 1d array was expected. Please change the shape of y to (n_samples, ), for example using ravel().\n",
      "  y = column_or_1d(y, warn=True)\n"
     ]
    },
    {
     "name": "stdout",
     "output_type": "stream",
     "text": [
      "{'C': 1, 'degree': 5, 'epsilon': 0.01, 'kernel': 'sigmoid'} 12.643873392084723\n",
      "{'C': 1, 'degree': 5, 'epsilon': 0.1, 'kernel': 'linear'} 0.06509079947248915\n",
      "{'C': 1, 'degree': 5, 'epsilon': 0.1, 'kernel': 'poly'} 0.3762707802881136\n"
     ]
    },
    {
     "name": "stderr",
     "output_type": "stream",
     "text": [
      "/home/hoangbaoan1901/anaconda3/envs/tf-env/lib/python3.12/site-packages/sklearn/utils/validation.py:1339: DataConversionWarning: A column-vector y was passed when a 1d array was expected. Please change the shape of y to (n_samples, ), for example using ravel().\n",
      "  y = column_or_1d(y, warn=True)\n",
      "/home/hoangbaoan1901/anaconda3/envs/tf-env/lib/python3.12/site-packages/sklearn/utils/validation.py:1339: DataConversionWarning: A column-vector y was passed when a 1d array was expected. Please change the shape of y to (n_samples, ), for example using ravel().\n",
      "  y = column_or_1d(y, warn=True)\n",
      "/home/hoangbaoan1901/anaconda3/envs/tf-env/lib/python3.12/site-packages/sklearn/utils/validation.py:1339: DataConversionWarning: A column-vector y was passed when a 1d array was expected. Please change the shape of y to (n_samples, ), for example using ravel().\n",
      "  y = column_or_1d(y, warn=True)\n"
     ]
    },
    {
     "name": "stdout",
     "output_type": "stream",
     "text": [
      "{'C': 1, 'degree': 5, 'epsilon': 0.1, 'kernel': 'rbf'} 0.1311273569816113\n"
     ]
    },
    {
     "name": "stderr",
     "output_type": "stream",
     "text": [
      "/home/hoangbaoan1901/anaconda3/envs/tf-env/lib/python3.12/site-packages/sklearn/utils/validation.py:1339: DataConversionWarning: A column-vector y was passed when a 1d array was expected. Please change the shape of y to (n_samples, ), for example using ravel().\n",
      "  y = column_or_1d(y, warn=True)\n"
     ]
    },
    {
     "name": "stdout",
     "output_type": "stream",
     "text": [
      "{'C': 1, 'degree': 5, 'epsilon': 0.1, 'kernel': 'sigmoid'} 12.650721901962362\n",
      "{'C': 1, 'degree': 5, 'epsilon': 0.2, 'kernel': 'linear'} 0.09375700005317189\n",
      "{'C': 1, 'degree': 5, 'epsilon': 0.2, 'kernel': 'poly'} 0.20162716584478063\n",
      "{'C': 1, 'degree': 5, 'epsilon': 0.2, 'kernel': 'rbf'} 0.1743694193247108\n"
     ]
    },
    {
     "name": "stderr",
     "output_type": "stream",
     "text": [
      "/home/hoangbaoan1901/anaconda3/envs/tf-env/lib/python3.12/site-packages/sklearn/utils/validation.py:1339: DataConversionWarning: A column-vector y was passed when a 1d array was expected. Please change the shape of y to (n_samples, ), for example using ravel().\n",
      "  y = column_or_1d(y, warn=True)\n",
      "/home/hoangbaoan1901/anaconda3/envs/tf-env/lib/python3.12/site-packages/sklearn/utils/validation.py:1339: DataConversionWarning: A column-vector y was passed when a 1d array was expected. Please change the shape of y to (n_samples, ), for example using ravel().\n",
      "  y = column_or_1d(y, warn=True)\n",
      "/home/hoangbaoan1901/anaconda3/envs/tf-env/lib/python3.12/site-packages/sklearn/utils/validation.py:1339: DataConversionWarning: A column-vector y was passed when a 1d array was expected. Please change the shape of y to (n_samples, ), for example using ravel().\n",
      "  y = column_or_1d(y, warn=True)\n",
      "/home/hoangbaoan1901/anaconda3/envs/tf-env/lib/python3.12/site-packages/sklearn/utils/validation.py:1339: DataConversionWarning: A column-vector y was passed when a 1d array was expected. Please change the shape of y to (n_samples, ), for example using ravel().\n",
      "  y = column_or_1d(y, warn=True)\n"
     ]
    },
    {
     "name": "stdout",
     "output_type": "stream",
     "text": [
      "{'C': 1, 'degree': 5, 'epsilon': 0.2, 'kernel': 'sigmoid'} 12.618077801814632\n",
      "{'C': 1, 'degree': 5, 'epsilon': 0.5, 'kernel': 'linear'} 0.2926233598162074\n",
      "{'C': 1, 'degree': 5, 'epsilon': 0.5, 'kernel': 'poly'} 0.2926233598162074\n",
      "{'C': 1, 'degree': 5, 'epsilon': 0.5, 'kernel': 'rbf'} 0.2926233598162074\n"
     ]
    },
    {
     "name": "stderr",
     "output_type": "stream",
     "text": [
      "/home/hoangbaoan1901/anaconda3/envs/tf-env/lib/python3.12/site-packages/sklearn/utils/validation.py:1339: DataConversionWarning: A column-vector y was passed when a 1d array was expected. Please change the shape of y to (n_samples, ), for example using ravel().\n",
      "  y = column_or_1d(y, warn=True)\n",
      "/home/hoangbaoan1901/anaconda3/envs/tf-env/lib/python3.12/site-packages/sklearn/utils/validation.py:1339: DataConversionWarning: A column-vector y was passed when a 1d array was expected. Please change the shape of y to (n_samples, ), for example using ravel().\n",
      "  y = column_or_1d(y, warn=True)\n",
      "/home/hoangbaoan1901/anaconda3/envs/tf-env/lib/python3.12/site-packages/sklearn/utils/validation.py:1339: DataConversionWarning: A column-vector y was passed when a 1d array was expected. Please change the shape of y to (n_samples, ), for example using ravel().\n",
      "  y = column_or_1d(y, warn=True)\n",
      "/home/hoangbaoan1901/anaconda3/envs/tf-env/lib/python3.12/site-packages/sklearn/utils/validation.py:1339: DataConversionWarning: A column-vector y was passed when a 1d array was expected. Please change the shape of y to (n_samples, ), for example using ravel().\n",
      "  y = column_or_1d(y, warn=True)\n"
     ]
    },
    {
     "name": "stdout",
     "output_type": "stream",
     "text": [
      "{'C': 1, 'degree': 5, 'epsilon': 0.5, 'kernel': 'sigmoid'} 0.2926233598162074\n"
     ]
    },
    {
     "name": "stderr",
     "output_type": "stream",
     "text": [
      "/home/hoangbaoan1901/anaconda3/envs/tf-env/lib/python3.12/site-packages/sklearn/utils/validation.py:1339: DataConversionWarning: A column-vector y was passed when a 1d array was expected. Please change the shape of y to (n_samples, ), for example using ravel().\n",
      "  y = column_or_1d(y, warn=True)\n"
     ]
    },
    {
     "name": "stdout",
     "output_type": "stream",
     "text": [
      "{'C': 10, 'degree': 2, 'epsilon': 0.01, 'kernel': 'linear'} 0.029397799374361846\n"
     ]
    },
    {
     "name": "stderr",
     "output_type": "stream",
     "text": [
      "/home/hoangbaoan1901/anaconda3/envs/tf-env/lib/python3.12/site-packages/sklearn/utils/validation.py:1339: DataConversionWarning: A column-vector y was passed when a 1d array was expected. Please change the shape of y to (n_samples, ), for example using ravel().\n",
      "  y = column_or_1d(y, warn=True)\n"
     ]
    },
    {
     "name": "stdout",
     "output_type": "stream",
     "text": [
      "{'C': 10, 'degree': 2, 'epsilon': 0.01, 'kernel': 'poly'} 0.09370949864814677\n",
      "{'C': 10, 'degree': 2, 'epsilon': 0.01, 'kernel': 'rbf'} 0.13201729039794682\n"
     ]
    },
    {
     "name": "stderr",
     "output_type": "stream",
     "text": [
      "/home/hoangbaoan1901/anaconda3/envs/tf-env/lib/python3.12/site-packages/sklearn/utils/validation.py:1339: DataConversionWarning: A column-vector y was passed when a 1d array was expected. Please change the shape of y to (n_samples, ), for example using ravel().\n",
      "  y = column_or_1d(y, warn=True)\n",
      "/home/hoangbaoan1901/anaconda3/envs/tf-env/lib/python3.12/site-packages/sklearn/utils/validation.py:1339: DataConversionWarning: A column-vector y was passed when a 1d array was expected. Please change the shape of y to (n_samples, ), for example using ravel().\n",
      "  y = column_or_1d(y, warn=True)\n"
     ]
    },
    {
     "name": "stdout",
     "output_type": "stream",
     "text": [
      "{'C': 10, 'degree': 2, 'epsilon': 0.01, 'kernel': 'sigmoid'} 120.04537491068507\n",
      "{'C': 10, 'degree': 2, 'epsilon': 0.1, 'kernel': 'linear'} 0.06509079947248915\n",
      "{'C': 10, 'degree': 2, 'epsilon': 0.1, 'kernel': 'poly'} 0.10727156856864961\n",
      "{'C': 10, 'degree': 2, 'epsilon': 0.1, 'kernel': 'rbf'} 0.1311273569816113\n"
     ]
    },
    {
     "name": "stderr",
     "output_type": "stream",
     "text": [
      "/home/hoangbaoan1901/anaconda3/envs/tf-env/lib/python3.12/site-packages/sklearn/utils/validation.py:1339: DataConversionWarning: A column-vector y was passed when a 1d array was expected. Please change the shape of y to (n_samples, ), for example using ravel().\n",
      "  y = column_or_1d(y, warn=True)\n",
      "/home/hoangbaoan1901/anaconda3/envs/tf-env/lib/python3.12/site-packages/sklearn/utils/validation.py:1339: DataConversionWarning: A column-vector y was passed when a 1d array was expected. Please change the shape of y to (n_samples, ), for example using ravel().\n",
      "  y = column_or_1d(y, warn=True)\n",
      "/home/hoangbaoan1901/anaconda3/envs/tf-env/lib/python3.12/site-packages/sklearn/utils/validation.py:1339: DataConversionWarning: A column-vector y was passed when a 1d array was expected. Please change the shape of y to (n_samples, ), for example using ravel().\n",
      "  y = column_or_1d(y, warn=True)\n",
      "/home/hoangbaoan1901/anaconda3/envs/tf-env/lib/python3.12/site-packages/sklearn/utils/validation.py:1339: DataConversionWarning: A column-vector y was passed when a 1d array was expected. Please change the shape of y to (n_samples, ), for example using ravel().\n",
      "  y = column_or_1d(y, warn=True)\n"
     ]
    },
    {
     "name": "stdout",
     "output_type": "stream",
     "text": [
      "{'C': 10, 'degree': 2, 'epsilon': 0.1, 'kernel': 'sigmoid'} 120.13992770921125\n",
      "{'C': 10, 'degree': 2, 'epsilon': 0.2, 'kernel': 'linear'} 0.09375700005317189\n",
      "{'C': 10, 'degree': 2, 'epsilon': 0.2, 'kernel': 'poly'} 0.10507359435508809\n",
      "{'C': 10, 'degree': 2, 'epsilon': 0.2, 'kernel': 'rbf'} 0.1743694193247108\n"
     ]
    },
    {
     "name": "stderr",
     "output_type": "stream",
     "text": [
      "/home/hoangbaoan1901/anaconda3/envs/tf-env/lib/python3.12/site-packages/sklearn/utils/validation.py:1339: DataConversionWarning: A column-vector y was passed when a 1d array was expected. Please change the shape of y to (n_samples, ), for example using ravel().\n",
      "  y = column_or_1d(y, warn=True)\n",
      "/home/hoangbaoan1901/anaconda3/envs/tf-env/lib/python3.12/site-packages/sklearn/utils/validation.py:1339: DataConversionWarning: A column-vector y was passed when a 1d array was expected. Please change the shape of y to (n_samples, ), for example using ravel().\n",
      "  y = column_or_1d(y, warn=True)\n",
      "/home/hoangbaoan1901/anaconda3/envs/tf-env/lib/python3.12/site-packages/sklearn/utils/validation.py:1339: DataConversionWarning: A column-vector y was passed when a 1d array was expected. Please change the shape of y to (n_samples, ), for example using ravel().\n",
      "  y = column_or_1d(y, warn=True)\n",
      "/home/hoangbaoan1901/anaconda3/envs/tf-env/lib/python3.12/site-packages/sklearn/utils/validation.py:1339: DataConversionWarning: A column-vector y was passed when a 1d array was expected. Please change the shape of y to (n_samples, ), for example using ravel().\n",
      "  y = column_or_1d(y, warn=True)\n"
     ]
    },
    {
     "name": "stdout",
     "output_type": "stream",
     "text": [
      "{'C': 10, 'degree': 2, 'epsilon': 0.2, 'kernel': 'sigmoid'} 120.21002147955991\n",
      "{'C': 10, 'degree': 2, 'epsilon': 0.5, 'kernel': 'linear'} 0.2926233598162074\n",
      "{'C': 10, 'degree': 2, 'epsilon': 0.5, 'kernel': 'poly'} 0.2926233598162074\n",
      "{'C': 10, 'degree': 2, 'epsilon': 0.5, 'kernel': 'rbf'} 0.2926233598162074\n"
     ]
    },
    {
     "name": "stderr",
     "output_type": "stream",
     "text": [
      "/home/hoangbaoan1901/anaconda3/envs/tf-env/lib/python3.12/site-packages/sklearn/utils/validation.py:1339: DataConversionWarning: A column-vector y was passed when a 1d array was expected. Please change the shape of y to (n_samples, ), for example using ravel().\n",
      "  y = column_or_1d(y, warn=True)\n",
      "/home/hoangbaoan1901/anaconda3/envs/tf-env/lib/python3.12/site-packages/sklearn/utils/validation.py:1339: DataConversionWarning: A column-vector y was passed when a 1d array was expected. Please change the shape of y to (n_samples, ), for example using ravel().\n",
      "  y = column_or_1d(y, warn=True)\n",
      "/home/hoangbaoan1901/anaconda3/envs/tf-env/lib/python3.12/site-packages/sklearn/utils/validation.py:1339: DataConversionWarning: A column-vector y was passed when a 1d array was expected. Please change the shape of y to (n_samples, ), for example using ravel().\n",
      "  y = column_or_1d(y, warn=True)\n",
      "/home/hoangbaoan1901/anaconda3/envs/tf-env/lib/python3.12/site-packages/sklearn/utils/validation.py:1339: DataConversionWarning: A column-vector y was passed when a 1d array was expected. Please change the shape of y to (n_samples, ), for example using ravel().\n",
      "  y = column_or_1d(y, warn=True)\n"
     ]
    },
    {
     "name": "stdout",
     "output_type": "stream",
     "text": [
      "{'C': 10, 'degree': 2, 'epsilon': 0.5, 'kernel': 'sigmoid'} 0.2926233598162074\n"
     ]
    },
    {
     "name": "stderr",
     "output_type": "stream",
     "text": [
      "/home/hoangbaoan1901/anaconda3/envs/tf-env/lib/python3.12/site-packages/sklearn/utils/validation.py:1339: DataConversionWarning: A column-vector y was passed when a 1d array was expected. Please change the shape of y to (n_samples, ), for example using ravel().\n",
      "  y = column_or_1d(y, warn=True)\n"
     ]
    },
    {
     "name": "stdout",
     "output_type": "stream",
     "text": [
      "{'C': 10, 'degree': 3, 'epsilon': 0.01, 'kernel': 'linear'} 0.029397799374361846\n"
     ]
    },
    {
     "name": "stderr",
     "output_type": "stream",
     "text": [
      "/home/hoangbaoan1901/anaconda3/envs/tf-env/lib/python3.12/site-packages/sklearn/utils/validation.py:1339: DataConversionWarning: A column-vector y was passed when a 1d array was expected. Please change the shape of y to (n_samples, ), for example using ravel().\n",
      "  y = column_or_1d(y, warn=True)\n"
     ]
    },
    {
     "name": "stdout",
     "output_type": "stream",
     "text": [
      "{'C': 10, 'degree': 3, 'epsilon': 0.01, 'kernel': 'poly'} 0.10966226299594126\n",
      "{'C': 10, 'degree': 3, 'epsilon': 0.01, 'kernel': 'rbf'} 0.13201729039794682\n"
     ]
    },
    {
     "name": "stderr",
     "output_type": "stream",
     "text": [
      "/home/hoangbaoan1901/anaconda3/envs/tf-env/lib/python3.12/site-packages/sklearn/utils/validation.py:1339: DataConversionWarning: A column-vector y was passed when a 1d array was expected. Please change the shape of y to (n_samples, ), for example using ravel().\n",
      "  y = column_or_1d(y, warn=True)\n",
      "/home/hoangbaoan1901/anaconda3/envs/tf-env/lib/python3.12/site-packages/sklearn/utils/validation.py:1339: DataConversionWarning: A column-vector y was passed when a 1d array was expected. Please change the shape of y to (n_samples, ), for example using ravel().\n",
      "  y = column_or_1d(y, warn=True)\n"
     ]
    },
    {
     "name": "stdout",
     "output_type": "stream",
     "text": [
      "{'C': 10, 'degree': 3, 'epsilon': 0.01, 'kernel': 'sigmoid'} 120.04537491068507\n",
      "{'C': 10, 'degree': 3, 'epsilon': 0.1, 'kernel': 'linear'} 0.06509079947248915\n",
      "{'C': 10, 'degree': 3, 'epsilon': 0.1, 'kernel': 'poly'} 0.19299205090049\n",
      "{'C': 10, 'degree': 3, 'epsilon': 0.1, 'kernel': 'rbf'} 0.1311273569816113\n"
     ]
    },
    {
     "name": "stderr",
     "output_type": "stream",
     "text": [
      "/home/hoangbaoan1901/anaconda3/envs/tf-env/lib/python3.12/site-packages/sklearn/utils/validation.py:1339: DataConversionWarning: A column-vector y was passed when a 1d array was expected. Please change the shape of y to (n_samples, ), for example using ravel().\n",
      "  y = column_or_1d(y, warn=True)\n",
      "/home/hoangbaoan1901/anaconda3/envs/tf-env/lib/python3.12/site-packages/sklearn/utils/validation.py:1339: DataConversionWarning: A column-vector y was passed when a 1d array was expected. Please change the shape of y to (n_samples, ), for example using ravel().\n",
      "  y = column_or_1d(y, warn=True)\n",
      "/home/hoangbaoan1901/anaconda3/envs/tf-env/lib/python3.12/site-packages/sklearn/utils/validation.py:1339: DataConversionWarning: A column-vector y was passed when a 1d array was expected. Please change the shape of y to (n_samples, ), for example using ravel().\n",
      "  y = column_or_1d(y, warn=True)\n",
      "/home/hoangbaoan1901/anaconda3/envs/tf-env/lib/python3.12/site-packages/sklearn/utils/validation.py:1339: DataConversionWarning: A column-vector y was passed when a 1d array was expected. Please change the shape of y to (n_samples, ), for example using ravel().\n",
      "  y = column_or_1d(y, warn=True)\n"
     ]
    },
    {
     "name": "stdout",
     "output_type": "stream",
     "text": [
      "{'C': 10, 'degree': 3, 'epsilon': 0.1, 'kernel': 'sigmoid'} 120.13992770921125\n",
      "{'C': 10, 'degree': 3, 'epsilon': 0.2, 'kernel': 'linear'} 0.09375700005317189\n",
      "{'C': 10, 'degree': 3, 'epsilon': 0.2, 'kernel': 'poly'} 0.1188457079274804\n"
     ]
    },
    {
     "name": "stderr",
     "output_type": "stream",
     "text": [
      "/home/hoangbaoan1901/anaconda3/envs/tf-env/lib/python3.12/site-packages/sklearn/utils/validation.py:1339: DataConversionWarning: A column-vector y was passed when a 1d array was expected. Please change the shape of y to (n_samples, ), for example using ravel().\n",
      "  y = column_or_1d(y, warn=True)\n",
      "/home/hoangbaoan1901/anaconda3/envs/tf-env/lib/python3.12/site-packages/sklearn/utils/validation.py:1339: DataConversionWarning: A column-vector y was passed when a 1d array was expected. Please change the shape of y to (n_samples, ), for example using ravel().\n",
      "  y = column_or_1d(y, warn=True)\n",
      "/home/hoangbaoan1901/anaconda3/envs/tf-env/lib/python3.12/site-packages/sklearn/utils/validation.py:1339: DataConversionWarning: A column-vector y was passed when a 1d array was expected. Please change the shape of y to (n_samples, ), for example using ravel().\n",
      "  y = column_or_1d(y, warn=True)\n"
     ]
    },
    {
     "name": "stdout",
     "output_type": "stream",
     "text": [
      "{'C': 10, 'degree': 3, 'epsilon': 0.2, 'kernel': 'rbf'} 0.1743694193247108\n"
     ]
    },
    {
     "name": "stderr",
     "output_type": "stream",
     "text": [
      "/home/hoangbaoan1901/anaconda3/envs/tf-env/lib/python3.12/site-packages/sklearn/utils/validation.py:1339: DataConversionWarning: A column-vector y was passed when a 1d array was expected. Please change the shape of y to (n_samples, ), for example using ravel().\n",
      "  y = column_or_1d(y, warn=True)\n"
     ]
    },
    {
     "name": "stdout",
     "output_type": "stream",
     "text": [
      "{'C': 10, 'degree': 3, 'epsilon': 0.2, 'kernel': 'sigmoid'} 120.21002147955991\n",
      "{'C': 10, 'degree': 3, 'epsilon': 0.5, 'kernel': 'linear'} 0.2926233598162074\n",
      "{'C': 10, 'degree': 3, 'epsilon': 0.5, 'kernel': 'poly'} 0.2926233598162074\n"
     ]
    },
    {
     "name": "stderr",
     "output_type": "stream",
     "text": [
      "/home/hoangbaoan1901/anaconda3/envs/tf-env/lib/python3.12/site-packages/sklearn/utils/validation.py:1339: DataConversionWarning: A column-vector y was passed when a 1d array was expected. Please change the shape of y to (n_samples, ), for example using ravel().\n",
      "  y = column_or_1d(y, warn=True)\n",
      "/home/hoangbaoan1901/anaconda3/envs/tf-env/lib/python3.12/site-packages/sklearn/utils/validation.py:1339: DataConversionWarning: A column-vector y was passed when a 1d array was expected. Please change the shape of y to (n_samples, ), for example using ravel().\n",
      "  y = column_or_1d(y, warn=True)\n",
      "/home/hoangbaoan1901/anaconda3/envs/tf-env/lib/python3.12/site-packages/sklearn/utils/validation.py:1339: DataConversionWarning: A column-vector y was passed when a 1d array was expected. Please change the shape of y to (n_samples, ), for example using ravel().\n",
      "  y = column_or_1d(y, warn=True)\n"
     ]
    },
    {
     "name": "stdout",
     "output_type": "stream",
     "text": [
      "{'C': 10, 'degree': 3, 'epsilon': 0.5, 'kernel': 'rbf'} 0.2926233598162074\n",
      "{'C': 10, 'degree': 3, 'epsilon': 0.5, 'kernel': 'sigmoid'} 0.2926233598162074\n"
     ]
    },
    {
     "name": "stderr",
     "output_type": "stream",
     "text": [
      "/home/hoangbaoan1901/anaconda3/envs/tf-env/lib/python3.12/site-packages/sklearn/utils/validation.py:1339: DataConversionWarning: A column-vector y was passed when a 1d array was expected. Please change the shape of y to (n_samples, ), for example using ravel().\n",
      "  y = column_or_1d(y, warn=True)\n",
      "/home/hoangbaoan1901/anaconda3/envs/tf-env/lib/python3.12/site-packages/sklearn/utils/validation.py:1339: DataConversionWarning: A column-vector y was passed when a 1d array was expected. Please change the shape of y to (n_samples, ), for example using ravel().\n",
      "  y = column_or_1d(y, warn=True)\n"
     ]
    },
    {
     "name": "stdout",
     "output_type": "stream",
     "text": [
      "{'C': 10, 'degree': 4, 'epsilon': 0.01, 'kernel': 'linear'} 0.029397799374361846\n"
     ]
    },
    {
     "name": "stderr",
     "output_type": "stream",
     "text": [
      "/home/hoangbaoan1901/anaconda3/envs/tf-env/lib/python3.12/site-packages/sklearn/utils/validation.py:1339: DataConversionWarning: A column-vector y was passed when a 1d array was expected. Please change the shape of y to (n_samples, ), for example using ravel().\n",
      "  y = column_or_1d(y, warn=True)\n"
     ]
    },
    {
     "name": "stdout",
     "output_type": "stream",
     "text": [
      "{'C': 10, 'degree': 4, 'epsilon': 0.01, 'kernel': 'poly'} 0.11128464870371249\n",
      "{'C': 10, 'degree': 4, 'epsilon': 0.01, 'kernel': 'rbf'} 0.13201729039794682\n"
     ]
    },
    {
     "name": "stderr",
     "output_type": "stream",
     "text": [
      "/home/hoangbaoan1901/anaconda3/envs/tf-env/lib/python3.12/site-packages/sklearn/utils/validation.py:1339: DataConversionWarning: A column-vector y was passed when a 1d array was expected. Please change the shape of y to (n_samples, ), for example using ravel().\n",
      "  y = column_or_1d(y, warn=True)\n",
      "/home/hoangbaoan1901/anaconda3/envs/tf-env/lib/python3.12/site-packages/sklearn/utils/validation.py:1339: DataConversionWarning: A column-vector y was passed when a 1d array was expected. Please change the shape of y to (n_samples, ), for example using ravel().\n",
      "  y = column_or_1d(y, warn=True)\n"
     ]
    },
    {
     "name": "stdout",
     "output_type": "stream",
     "text": [
      "{'C': 10, 'degree': 4, 'epsilon': 0.01, 'kernel': 'sigmoid'} 120.04537491068507\n",
      "{'C': 10, 'degree': 4, 'epsilon': 0.1, 'kernel': 'linear'} 0.06509079947248915\n",
      "{'C': 10, 'degree': 4, 'epsilon': 0.1, 'kernel': 'poly'} 0.2672860150203561\n"
     ]
    },
    {
     "name": "stderr",
     "output_type": "stream",
     "text": [
      "/home/hoangbaoan1901/anaconda3/envs/tf-env/lib/python3.12/site-packages/sklearn/utils/validation.py:1339: DataConversionWarning: A column-vector y was passed when a 1d array was expected. Please change the shape of y to (n_samples, ), for example using ravel().\n",
      "  y = column_or_1d(y, warn=True)\n",
      "/home/hoangbaoan1901/anaconda3/envs/tf-env/lib/python3.12/site-packages/sklearn/utils/validation.py:1339: DataConversionWarning: A column-vector y was passed when a 1d array was expected. Please change the shape of y to (n_samples, ), for example using ravel().\n",
      "  y = column_or_1d(y, warn=True)\n",
      "/home/hoangbaoan1901/anaconda3/envs/tf-env/lib/python3.12/site-packages/sklearn/utils/validation.py:1339: DataConversionWarning: A column-vector y was passed when a 1d array was expected. Please change the shape of y to (n_samples, ), for example using ravel().\n",
      "  y = column_or_1d(y, warn=True)\n"
     ]
    },
    {
     "name": "stdout",
     "output_type": "stream",
     "text": [
      "{'C': 10, 'degree': 4, 'epsilon': 0.1, 'kernel': 'rbf'} 0.1311273569816113\n"
     ]
    },
    {
     "name": "stderr",
     "output_type": "stream",
     "text": [
      "/home/hoangbaoan1901/anaconda3/envs/tf-env/lib/python3.12/site-packages/sklearn/utils/validation.py:1339: DataConversionWarning: A column-vector y was passed when a 1d array was expected. Please change the shape of y to (n_samples, ), for example using ravel().\n",
      "  y = column_or_1d(y, warn=True)\n"
     ]
    },
    {
     "name": "stdout",
     "output_type": "stream",
     "text": [
      "{'C': 10, 'degree': 4, 'epsilon': 0.1, 'kernel': 'sigmoid'} 120.13992770921125\n",
      "{'C': 10, 'degree': 4, 'epsilon': 0.2, 'kernel': 'linear'} 0.09375700005317189\n",
      "{'C': 10, 'degree': 4, 'epsilon': 0.2, 'kernel': 'poly'} 0.14811237817281514\n"
     ]
    },
    {
     "name": "stderr",
     "output_type": "stream",
     "text": [
      "/home/hoangbaoan1901/anaconda3/envs/tf-env/lib/python3.12/site-packages/sklearn/utils/validation.py:1339: DataConversionWarning: A column-vector y was passed when a 1d array was expected. Please change the shape of y to (n_samples, ), for example using ravel().\n",
      "  y = column_or_1d(y, warn=True)\n",
      "/home/hoangbaoan1901/anaconda3/envs/tf-env/lib/python3.12/site-packages/sklearn/utils/validation.py:1339: DataConversionWarning: A column-vector y was passed when a 1d array was expected. Please change the shape of y to (n_samples, ), for example using ravel().\n",
      "  y = column_or_1d(y, warn=True)\n",
      "/home/hoangbaoan1901/anaconda3/envs/tf-env/lib/python3.12/site-packages/sklearn/utils/validation.py:1339: DataConversionWarning: A column-vector y was passed when a 1d array was expected. Please change the shape of y to (n_samples, ), for example using ravel().\n",
      "  y = column_or_1d(y, warn=True)\n"
     ]
    },
    {
     "name": "stdout",
     "output_type": "stream",
     "text": [
      "{'C': 10, 'degree': 4, 'epsilon': 0.2, 'kernel': 'rbf'} 0.1743694193247108\n"
     ]
    },
    {
     "name": "stderr",
     "output_type": "stream",
     "text": [
      "/home/hoangbaoan1901/anaconda3/envs/tf-env/lib/python3.12/site-packages/sklearn/utils/validation.py:1339: DataConversionWarning: A column-vector y was passed when a 1d array was expected. Please change the shape of y to (n_samples, ), for example using ravel().\n",
      "  y = column_or_1d(y, warn=True)\n"
     ]
    },
    {
     "name": "stdout",
     "output_type": "stream",
     "text": [
      "{'C': 10, 'degree': 4, 'epsilon': 0.2, 'kernel': 'sigmoid'} 120.21002147955991\n",
      "{'C': 10, 'degree': 4, 'epsilon': 0.5, 'kernel': 'linear'} 0.2926233598162074\n",
      "{'C': 10, 'degree': 4, 'epsilon': 0.5, 'kernel': 'poly'} 0.2926233598162074\n"
     ]
    },
    {
     "name": "stderr",
     "output_type": "stream",
     "text": [
      "/home/hoangbaoan1901/anaconda3/envs/tf-env/lib/python3.12/site-packages/sklearn/utils/validation.py:1339: DataConversionWarning: A column-vector y was passed when a 1d array was expected. Please change the shape of y to (n_samples, ), for example using ravel().\n",
      "  y = column_or_1d(y, warn=True)\n",
      "/home/hoangbaoan1901/anaconda3/envs/tf-env/lib/python3.12/site-packages/sklearn/utils/validation.py:1339: DataConversionWarning: A column-vector y was passed when a 1d array was expected. Please change the shape of y to (n_samples, ), for example using ravel().\n",
      "  y = column_or_1d(y, warn=True)\n",
      "/home/hoangbaoan1901/anaconda3/envs/tf-env/lib/python3.12/site-packages/sklearn/utils/validation.py:1339: DataConversionWarning: A column-vector y was passed when a 1d array was expected. Please change the shape of y to (n_samples, ), for example using ravel().\n",
      "  y = column_or_1d(y, warn=True)\n"
     ]
    },
    {
     "name": "stdout",
     "output_type": "stream",
     "text": [
      "{'C': 10, 'degree': 4, 'epsilon': 0.5, 'kernel': 'rbf'} 0.2926233598162074\n",
      "{'C': 10, 'degree': 4, 'epsilon': 0.5, 'kernel': 'sigmoid'} 0.2926233598162074\n"
     ]
    },
    {
     "name": "stderr",
     "output_type": "stream",
     "text": [
      "/home/hoangbaoan1901/anaconda3/envs/tf-env/lib/python3.12/site-packages/sklearn/utils/validation.py:1339: DataConversionWarning: A column-vector y was passed when a 1d array was expected. Please change the shape of y to (n_samples, ), for example using ravel().\n",
      "  y = column_or_1d(y, warn=True)\n",
      "/home/hoangbaoan1901/anaconda3/envs/tf-env/lib/python3.12/site-packages/sklearn/utils/validation.py:1339: DataConversionWarning: A column-vector y was passed when a 1d array was expected. Please change the shape of y to (n_samples, ), for example using ravel().\n",
      "  y = column_or_1d(y, warn=True)\n"
     ]
    },
    {
     "name": "stdout",
     "output_type": "stream",
     "text": [
      "{'C': 10, 'degree': 5, 'epsilon': 0.01, 'kernel': 'linear'} 0.029397799374361846\n"
     ]
    },
    {
     "name": "stderr",
     "output_type": "stream",
     "text": [
      "/home/hoangbaoan1901/anaconda3/envs/tf-env/lib/python3.12/site-packages/sklearn/utils/validation.py:1339: DataConversionWarning: A column-vector y was passed when a 1d array was expected. Please change the shape of y to (n_samples, ), for example using ravel().\n",
      "  y = column_or_1d(y, warn=True)\n"
     ]
    },
    {
     "name": "stdout",
     "output_type": "stream",
     "text": [
      "{'C': 10, 'degree': 5, 'epsilon': 0.01, 'kernel': 'poly'} 0.12679029374574888\n"
     ]
    },
    {
     "name": "stderr",
     "output_type": "stream",
     "text": [
      "/home/hoangbaoan1901/anaconda3/envs/tf-env/lib/python3.12/site-packages/sklearn/utils/validation.py:1339: DataConversionWarning: A column-vector y was passed when a 1d array was expected. Please change the shape of y to (n_samples, ), for example using ravel().\n",
      "  y = column_or_1d(y, warn=True)\n"
     ]
    },
    {
     "name": "stdout",
     "output_type": "stream",
     "text": [
      "{'C': 10, 'degree': 5, 'epsilon': 0.01, 'kernel': 'rbf'} 0.13201729039794682\n"
     ]
    },
    {
     "name": "stderr",
     "output_type": "stream",
     "text": [
      "/home/hoangbaoan1901/anaconda3/envs/tf-env/lib/python3.12/site-packages/sklearn/utils/validation.py:1339: DataConversionWarning: A column-vector y was passed when a 1d array was expected. Please change the shape of y to (n_samples, ), for example using ravel().\n",
      "  y = column_or_1d(y, warn=True)\n"
     ]
    },
    {
     "name": "stdout",
     "output_type": "stream",
     "text": [
      "{'C': 10, 'degree': 5, 'epsilon': 0.01, 'kernel': 'sigmoid'} 120.04537491068507\n",
      "{'C': 10, 'degree': 5, 'epsilon': 0.1, 'kernel': 'linear'} 0.06509079947248915\n",
      "{'C': 10, 'degree': 5, 'epsilon': 0.1, 'kernel': 'poly'} 0.3762707802881136\n",
      "{'C': 10, 'degree': 5, 'epsilon': 0.1, 'kernel': 'rbf'} 0.1311273569816113\n"
     ]
    },
    {
     "name": "stderr",
     "output_type": "stream",
     "text": [
      "/home/hoangbaoan1901/anaconda3/envs/tf-env/lib/python3.12/site-packages/sklearn/utils/validation.py:1339: DataConversionWarning: A column-vector y was passed when a 1d array was expected. Please change the shape of y to (n_samples, ), for example using ravel().\n",
      "  y = column_or_1d(y, warn=True)\n",
      "/home/hoangbaoan1901/anaconda3/envs/tf-env/lib/python3.12/site-packages/sklearn/utils/validation.py:1339: DataConversionWarning: A column-vector y was passed when a 1d array was expected. Please change the shape of y to (n_samples, ), for example using ravel().\n",
      "  y = column_or_1d(y, warn=True)\n",
      "/home/hoangbaoan1901/anaconda3/envs/tf-env/lib/python3.12/site-packages/sklearn/utils/validation.py:1339: DataConversionWarning: A column-vector y was passed when a 1d array was expected. Please change the shape of y to (n_samples, ), for example using ravel().\n",
      "  y = column_or_1d(y, warn=True)\n",
      "/home/hoangbaoan1901/anaconda3/envs/tf-env/lib/python3.12/site-packages/sklearn/utils/validation.py:1339: DataConversionWarning: A column-vector y was passed when a 1d array was expected. Please change the shape of y to (n_samples, ), for example using ravel().\n",
      "  y = column_or_1d(y, warn=True)\n"
     ]
    },
    {
     "name": "stdout",
     "output_type": "stream",
     "text": [
      "{'C': 10, 'degree': 5, 'epsilon': 0.1, 'kernel': 'sigmoid'} 120.13992770921125\n",
      "{'C': 10, 'degree': 5, 'epsilon': 0.2, 'kernel': 'linear'} 0.09375700005317189\n",
      "{'C': 10, 'degree': 5, 'epsilon': 0.2, 'kernel': 'poly'} 0.20162716584478063\n",
      "{'C': 10, 'degree': 5, 'epsilon': 0.2, 'kernel': 'rbf'} 0.1743694193247108\n"
     ]
    },
    {
     "name": "stderr",
     "output_type": "stream",
     "text": [
      "/home/hoangbaoan1901/anaconda3/envs/tf-env/lib/python3.12/site-packages/sklearn/utils/validation.py:1339: DataConversionWarning: A column-vector y was passed when a 1d array was expected. Please change the shape of y to (n_samples, ), for example using ravel().\n",
      "  y = column_or_1d(y, warn=True)\n",
      "/home/hoangbaoan1901/anaconda3/envs/tf-env/lib/python3.12/site-packages/sklearn/utils/validation.py:1339: DataConversionWarning: A column-vector y was passed when a 1d array was expected. Please change the shape of y to (n_samples, ), for example using ravel().\n",
      "  y = column_or_1d(y, warn=True)\n",
      "/home/hoangbaoan1901/anaconda3/envs/tf-env/lib/python3.12/site-packages/sklearn/utils/validation.py:1339: DataConversionWarning: A column-vector y was passed when a 1d array was expected. Please change the shape of y to (n_samples, ), for example using ravel().\n",
      "  y = column_or_1d(y, warn=True)\n",
      "/home/hoangbaoan1901/anaconda3/envs/tf-env/lib/python3.12/site-packages/sklearn/utils/validation.py:1339: DataConversionWarning: A column-vector y was passed when a 1d array was expected. Please change the shape of y to (n_samples, ), for example using ravel().\n",
      "  y = column_or_1d(y, warn=True)\n"
     ]
    },
    {
     "name": "stdout",
     "output_type": "stream",
     "text": [
      "{'C': 10, 'degree': 5, 'epsilon': 0.2, 'kernel': 'sigmoid'} 120.21002147955991\n",
      "{'C': 10, 'degree': 5, 'epsilon': 0.5, 'kernel': 'linear'} 0.2926233598162074\n",
      "{'C': 10, 'degree': 5, 'epsilon': 0.5, 'kernel': 'poly'} 0.2926233598162074\n",
      "{'C': 10, 'degree': 5, 'epsilon': 0.5, 'kernel': 'rbf'} 0.2926233598162074\n"
     ]
    },
    {
     "name": "stderr",
     "output_type": "stream",
     "text": [
      "/home/hoangbaoan1901/anaconda3/envs/tf-env/lib/python3.12/site-packages/sklearn/utils/validation.py:1339: DataConversionWarning: A column-vector y was passed when a 1d array was expected. Please change the shape of y to (n_samples, ), for example using ravel().\n",
      "  y = column_or_1d(y, warn=True)\n",
      "/home/hoangbaoan1901/anaconda3/envs/tf-env/lib/python3.12/site-packages/sklearn/utils/validation.py:1339: DataConversionWarning: A column-vector y was passed when a 1d array was expected. Please change the shape of y to (n_samples, ), for example using ravel().\n",
      "  y = column_or_1d(y, warn=True)\n",
      "/home/hoangbaoan1901/anaconda3/envs/tf-env/lib/python3.12/site-packages/sklearn/utils/validation.py:1339: DataConversionWarning: A column-vector y was passed when a 1d array was expected. Please change the shape of y to (n_samples, ), for example using ravel().\n",
      "  y = column_or_1d(y, warn=True)\n",
      "/home/hoangbaoan1901/anaconda3/envs/tf-env/lib/python3.12/site-packages/sklearn/utils/validation.py:1339: DataConversionWarning: A column-vector y was passed when a 1d array was expected. Please change the shape of y to (n_samples, ), for example using ravel().\n",
      "  y = column_or_1d(y, warn=True)\n"
     ]
    },
    {
     "name": "stdout",
     "output_type": "stream",
     "text": [
      "{'C': 10, 'degree': 5, 'epsilon': 0.5, 'kernel': 'sigmoid'} 0.2926233598162074\n"
     ]
    },
    {
     "name": "stderr",
     "output_type": "stream",
     "text": [
      "/home/hoangbaoan1901/anaconda3/envs/tf-env/lib/python3.12/site-packages/sklearn/utils/validation.py:1339: DataConversionWarning: A column-vector y was passed when a 1d array was expected. Please change the shape of y to (n_samples, ), for example using ravel().\n",
      "  y = column_or_1d(y, warn=True)\n"
     ]
    },
    {
     "name": "stdout",
     "output_type": "stream",
     "text": [
      "{'C': 100, 'degree': 2, 'epsilon': 0.01, 'kernel': 'linear'} 0.029505367733595418\n"
     ]
    },
    {
     "name": "stderr",
     "output_type": "stream",
     "text": [
      "/home/hoangbaoan1901/anaconda3/envs/tf-env/lib/python3.12/site-packages/sklearn/utils/validation.py:1339: DataConversionWarning: A column-vector y was passed when a 1d array was expected. Please change the shape of y to (n_samples, ), for example using ravel().\n",
      "  y = column_or_1d(y, warn=True)\n"
     ]
    },
    {
     "name": "stdout",
     "output_type": "stream",
     "text": [
      "{'C': 100, 'degree': 2, 'epsilon': 0.01, 'kernel': 'poly'} 0.10044519414612754\n",
      "{'C': 100, 'degree': 2, 'epsilon': 0.01, 'kernel': 'rbf'} 0.13291957303320484\n"
     ]
    },
    {
     "name": "stderr",
     "output_type": "stream",
     "text": [
      "/home/hoangbaoan1901/anaconda3/envs/tf-env/lib/python3.12/site-packages/sklearn/utils/validation.py:1339: DataConversionWarning: A column-vector y was passed when a 1d array was expected. Please change the shape of y to (n_samples, ), for example using ravel().\n",
      "  y = column_or_1d(y, warn=True)\n",
      "/home/hoangbaoan1901/anaconda3/envs/tf-env/lib/python3.12/site-packages/sklearn/utils/validation.py:1339: DataConversionWarning: A column-vector y was passed when a 1d array was expected. Please change the shape of y to (n_samples, ), for example using ravel().\n",
      "  y = column_or_1d(y, warn=True)\n"
     ]
    },
    {
     "name": "stdout",
     "output_type": "stream",
     "text": [
      "{'C': 100, 'degree': 2, 'epsilon': 0.01, 'kernel': 'sigmoid'} 1194.0268530128872\n",
      "{'C': 100, 'degree': 2, 'epsilon': 0.1, 'kernel': 'linear'} 0.06509079947248915\n",
      "{'C': 100, 'degree': 2, 'epsilon': 0.1, 'kernel': 'poly'} 0.10727156856864961\n",
      "{'C': 100, 'degree': 2, 'epsilon': 0.1, 'kernel': 'rbf'} 0.1311273569816113\n"
     ]
    },
    {
     "name": "stderr",
     "output_type": "stream",
     "text": [
      "/home/hoangbaoan1901/anaconda3/envs/tf-env/lib/python3.12/site-packages/sklearn/utils/validation.py:1339: DataConversionWarning: A column-vector y was passed when a 1d array was expected. Please change the shape of y to (n_samples, ), for example using ravel().\n",
      "  y = column_or_1d(y, warn=True)\n",
      "/home/hoangbaoan1901/anaconda3/envs/tf-env/lib/python3.12/site-packages/sklearn/utils/validation.py:1339: DataConversionWarning: A column-vector y was passed when a 1d array was expected. Please change the shape of y to (n_samples, ), for example using ravel().\n",
      "  y = column_or_1d(y, warn=True)\n",
      "/home/hoangbaoan1901/anaconda3/envs/tf-env/lib/python3.12/site-packages/sklearn/utils/validation.py:1339: DataConversionWarning: A column-vector y was passed when a 1d array was expected. Please change the shape of y to (n_samples, ), for example using ravel().\n",
      "  y = column_or_1d(y, warn=True)\n",
      "/home/hoangbaoan1901/anaconda3/envs/tf-env/lib/python3.12/site-packages/sklearn/utils/validation.py:1339: DataConversionWarning: A column-vector y was passed when a 1d array was expected. Please change the shape of y to (n_samples, ), for example using ravel().\n",
      "  y = column_or_1d(y, warn=True)\n"
     ]
    },
    {
     "name": "stdout",
     "output_type": "stream",
     "text": [
      "{'C': 100, 'degree': 2, 'epsilon': 0.1, 'kernel': 'sigmoid'} 1194.2884435795293\n",
      "{'C': 100, 'degree': 2, 'epsilon': 0.2, 'kernel': 'linear'} 0.09375700005317189\n",
      "{'C': 100, 'degree': 2, 'epsilon': 0.2, 'kernel': 'poly'} 0.10507359435508809\n",
      "{'C': 100, 'degree': 2, 'epsilon': 0.2, 'kernel': 'rbf'} 0.1743694193247108\n"
     ]
    },
    {
     "name": "stderr",
     "output_type": "stream",
     "text": [
      "/home/hoangbaoan1901/anaconda3/envs/tf-env/lib/python3.12/site-packages/sklearn/utils/validation.py:1339: DataConversionWarning: A column-vector y was passed when a 1d array was expected. Please change the shape of y to (n_samples, ), for example using ravel().\n",
      "  y = column_or_1d(y, warn=True)\n",
      "/home/hoangbaoan1901/anaconda3/envs/tf-env/lib/python3.12/site-packages/sklearn/utils/validation.py:1339: DataConversionWarning: A column-vector y was passed when a 1d array was expected. Please change the shape of y to (n_samples, ), for example using ravel().\n",
      "  y = column_or_1d(y, warn=True)\n",
      "/home/hoangbaoan1901/anaconda3/envs/tf-env/lib/python3.12/site-packages/sklearn/utils/validation.py:1339: DataConversionWarning: A column-vector y was passed when a 1d array was expected. Please change the shape of y to (n_samples, ), for example using ravel().\n",
      "  y = column_or_1d(y, warn=True)\n",
      "/home/hoangbaoan1901/anaconda3/envs/tf-env/lib/python3.12/site-packages/sklearn/utils/validation.py:1339: DataConversionWarning: A column-vector y was passed when a 1d array was expected. Please change the shape of y to (n_samples, ), for example using ravel().\n",
      "  y = column_or_1d(y, warn=True)\n"
     ]
    },
    {
     "name": "stdout",
     "output_type": "stream",
     "text": [
      "{'C': 100, 'degree': 2, 'epsilon': 0.2, 'kernel': 'sigmoid'} 1193.823779373507\n",
      "{'C': 100, 'degree': 2, 'epsilon': 0.5, 'kernel': 'linear'} 0.2926233598162074\n",
      "{'C': 100, 'degree': 2, 'epsilon': 0.5, 'kernel': 'poly'} 0.2926233598162074\n",
      "{'C': 100, 'degree': 2, 'epsilon': 0.5, 'kernel': 'rbf'} 0.2926233598162074\n"
     ]
    },
    {
     "name": "stderr",
     "output_type": "stream",
     "text": [
      "/home/hoangbaoan1901/anaconda3/envs/tf-env/lib/python3.12/site-packages/sklearn/utils/validation.py:1339: DataConversionWarning: A column-vector y was passed when a 1d array was expected. Please change the shape of y to (n_samples, ), for example using ravel().\n",
      "  y = column_or_1d(y, warn=True)\n",
      "/home/hoangbaoan1901/anaconda3/envs/tf-env/lib/python3.12/site-packages/sklearn/utils/validation.py:1339: DataConversionWarning: A column-vector y was passed when a 1d array was expected. Please change the shape of y to (n_samples, ), for example using ravel().\n",
      "  y = column_or_1d(y, warn=True)\n",
      "/home/hoangbaoan1901/anaconda3/envs/tf-env/lib/python3.12/site-packages/sklearn/utils/validation.py:1339: DataConversionWarning: A column-vector y was passed when a 1d array was expected. Please change the shape of y to (n_samples, ), for example using ravel().\n",
      "  y = column_or_1d(y, warn=True)\n",
      "/home/hoangbaoan1901/anaconda3/envs/tf-env/lib/python3.12/site-packages/sklearn/utils/validation.py:1339: DataConversionWarning: A column-vector y was passed when a 1d array was expected. Please change the shape of y to (n_samples, ), for example using ravel().\n",
      "  y = column_or_1d(y, warn=True)\n",
      "/home/hoangbaoan1901/anaconda3/envs/tf-env/lib/python3.12/site-packages/sklearn/utils/validation.py:1339: DataConversionWarning: A column-vector y was passed when a 1d array was expected. Please change the shape of y to (n_samples, ), for example using ravel().\n",
      "  y = column_or_1d(y, warn=True)\n"
     ]
    },
    {
     "name": "stdout",
     "output_type": "stream",
     "text": [
      "{'C': 100, 'degree': 2, 'epsilon': 0.5, 'kernel': 'sigmoid'} 0.2926233598162074\n",
      "{'C': 100, 'degree': 3, 'epsilon': 0.01, 'kernel': 'linear'} 0.029505367733595418\n"
     ]
    },
    {
     "name": "stderr",
     "output_type": "stream",
     "text": [
      "/home/hoangbaoan1901/anaconda3/envs/tf-env/lib/python3.12/site-packages/sklearn/utils/validation.py:1339: DataConversionWarning: A column-vector y was passed when a 1d array was expected. Please change the shape of y to (n_samples, ), for example using ravel().\n",
      "  y = column_or_1d(y, warn=True)\n"
     ]
    },
    {
     "name": "stdout",
     "output_type": "stream",
     "text": [
      "{'C': 100, 'degree': 3, 'epsilon': 0.01, 'kernel': 'poly'} 0.10351022838998117\n",
      "{'C': 100, 'degree': 3, 'epsilon': 0.01, 'kernel': 'rbf'} 0.13291957303320484\n"
     ]
    },
    {
     "name": "stderr",
     "output_type": "stream",
     "text": [
      "/home/hoangbaoan1901/anaconda3/envs/tf-env/lib/python3.12/site-packages/sklearn/utils/validation.py:1339: DataConversionWarning: A column-vector y was passed when a 1d array was expected. Please change the shape of y to (n_samples, ), for example using ravel().\n",
      "  y = column_or_1d(y, warn=True)\n",
      "/home/hoangbaoan1901/anaconda3/envs/tf-env/lib/python3.12/site-packages/sklearn/utils/validation.py:1339: DataConversionWarning: A column-vector y was passed when a 1d array was expected. Please change the shape of y to (n_samples, ), for example using ravel().\n",
      "  y = column_or_1d(y, warn=True)\n"
     ]
    },
    {
     "name": "stdout",
     "output_type": "stream",
     "text": [
      "{'C': 100, 'degree': 3, 'epsilon': 0.01, 'kernel': 'sigmoid'} 1194.0268530128872\n",
      "{'C': 100, 'degree': 3, 'epsilon': 0.1, 'kernel': 'linear'} 0.06509079947248915\n",
      "{'C': 100, 'degree': 3, 'epsilon': 0.1, 'kernel': 'poly'} 0.19299205090049\n",
      "{'C': 100, 'degree': 3, 'epsilon': 0.1, 'kernel': 'rbf'} 0.1311273569816113\n"
     ]
    },
    {
     "name": "stderr",
     "output_type": "stream",
     "text": [
      "/home/hoangbaoan1901/anaconda3/envs/tf-env/lib/python3.12/site-packages/sklearn/utils/validation.py:1339: DataConversionWarning: A column-vector y was passed when a 1d array was expected. Please change the shape of y to (n_samples, ), for example using ravel().\n",
      "  y = column_or_1d(y, warn=True)\n",
      "/home/hoangbaoan1901/anaconda3/envs/tf-env/lib/python3.12/site-packages/sklearn/utils/validation.py:1339: DataConversionWarning: A column-vector y was passed when a 1d array was expected. Please change the shape of y to (n_samples, ), for example using ravel().\n",
      "  y = column_or_1d(y, warn=True)\n",
      "/home/hoangbaoan1901/anaconda3/envs/tf-env/lib/python3.12/site-packages/sklearn/utils/validation.py:1339: DataConversionWarning: A column-vector y was passed when a 1d array was expected. Please change the shape of y to (n_samples, ), for example using ravel().\n",
      "  y = column_or_1d(y, warn=True)\n",
      "/home/hoangbaoan1901/anaconda3/envs/tf-env/lib/python3.12/site-packages/sklearn/utils/validation.py:1339: DataConversionWarning: A column-vector y was passed when a 1d array was expected. Please change the shape of y to (n_samples, ), for example using ravel().\n",
      "  y = column_or_1d(y, warn=True)\n"
     ]
    },
    {
     "name": "stdout",
     "output_type": "stream",
     "text": [
      "{'C': 100, 'degree': 3, 'epsilon': 0.1, 'kernel': 'sigmoid'} 1194.2884435795293\n",
      "{'C': 100, 'degree': 3, 'epsilon': 0.2, 'kernel': 'linear'} 0.09375700005317189\n",
      "{'C': 100, 'degree': 3, 'epsilon': 0.2, 'kernel': 'poly'} 0.1188457079274804\n",
      "{'C': 100, 'degree': 3, 'epsilon': 0.2, 'kernel': 'rbf'} 0.1743694193247108\n"
     ]
    },
    {
     "name": "stderr",
     "output_type": "stream",
     "text": [
      "/home/hoangbaoan1901/anaconda3/envs/tf-env/lib/python3.12/site-packages/sklearn/utils/validation.py:1339: DataConversionWarning: A column-vector y was passed when a 1d array was expected. Please change the shape of y to (n_samples, ), for example using ravel().\n",
      "  y = column_or_1d(y, warn=True)\n",
      "/home/hoangbaoan1901/anaconda3/envs/tf-env/lib/python3.12/site-packages/sklearn/utils/validation.py:1339: DataConversionWarning: A column-vector y was passed when a 1d array was expected. Please change the shape of y to (n_samples, ), for example using ravel().\n",
      "  y = column_or_1d(y, warn=True)\n",
      "/home/hoangbaoan1901/anaconda3/envs/tf-env/lib/python3.12/site-packages/sklearn/utils/validation.py:1339: DataConversionWarning: A column-vector y was passed when a 1d array was expected. Please change the shape of y to (n_samples, ), for example using ravel().\n",
      "  y = column_or_1d(y, warn=True)\n",
      "/home/hoangbaoan1901/anaconda3/envs/tf-env/lib/python3.12/site-packages/sklearn/utils/validation.py:1339: DataConversionWarning: A column-vector y was passed when a 1d array was expected. Please change the shape of y to (n_samples, ), for example using ravel().\n",
      "  y = column_or_1d(y, warn=True)\n"
     ]
    },
    {
     "name": "stdout",
     "output_type": "stream",
     "text": [
      "{'C': 100, 'degree': 3, 'epsilon': 0.2, 'kernel': 'sigmoid'} 1193.823779373507\n",
      "{'C': 100, 'degree': 3, 'epsilon': 0.5, 'kernel': 'linear'} 0.2926233598162074\n",
      "{'C': 100, 'degree': 3, 'epsilon': 0.5, 'kernel': 'poly'} 0.2926233598162074\n",
      "{'C': 100, 'degree': 3, 'epsilon': 0.5, 'kernel': 'rbf'} 0.2926233598162074\n"
     ]
    },
    {
     "name": "stderr",
     "output_type": "stream",
     "text": [
      "/home/hoangbaoan1901/anaconda3/envs/tf-env/lib/python3.12/site-packages/sklearn/utils/validation.py:1339: DataConversionWarning: A column-vector y was passed when a 1d array was expected. Please change the shape of y to (n_samples, ), for example using ravel().\n",
      "  y = column_or_1d(y, warn=True)\n",
      "/home/hoangbaoan1901/anaconda3/envs/tf-env/lib/python3.12/site-packages/sklearn/utils/validation.py:1339: DataConversionWarning: A column-vector y was passed when a 1d array was expected. Please change the shape of y to (n_samples, ), for example using ravel().\n",
      "  y = column_or_1d(y, warn=True)\n",
      "/home/hoangbaoan1901/anaconda3/envs/tf-env/lib/python3.12/site-packages/sklearn/utils/validation.py:1339: DataConversionWarning: A column-vector y was passed when a 1d array was expected. Please change the shape of y to (n_samples, ), for example using ravel().\n",
      "  y = column_or_1d(y, warn=True)\n",
      "/home/hoangbaoan1901/anaconda3/envs/tf-env/lib/python3.12/site-packages/sklearn/utils/validation.py:1339: DataConversionWarning: A column-vector y was passed when a 1d array was expected. Please change the shape of y to (n_samples, ), for example using ravel().\n",
      "  y = column_or_1d(y, warn=True)\n"
     ]
    },
    {
     "name": "stdout",
     "output_type": "stream",
     "text": [
      "{'C': 100, 'degree': 3, 'epsilon': 0.5, 'kernel': 'sigmoid'} 0.2926233598162074\n"
     ]
    },
    {
     "name": "stderr",
     "output_type": "stream",
     "text": [
      "/home/hoangbaoan1901/anaconda3/envs/tf-env/lib/python3.12/site-packages/sklearn/utils/validation.py:1339: DataConversionWarning: A column-vector y was passed when a 1d array was expected. Please change the shape of y to (n_samples, ), for example using ravel().\n",
      "  y = column_or_1d(y, warn=True)\n"
     ]
    },
    {
     "name": "stdout",
     "output_type": "stream",
     "text": [
      "{'C': 100, 'degree': 4, 'epsilon': 0.01, 'kernel': 'linear'} 0.029505367733595418\n"
     ]
    },
    {
     "name": "stderr",
     "output_type": "stream",
     "text": [
      "/home/hoangbaoan1901/anaconda3/envs/tf-env/lib/python3.12/site-packages/sklearn/utils/validation.py:1339: DataConversionWarning: A column-vector y was passed when a 1d array was expected. Please change the shape of y to (n_samples, ), for example using ravel().\n",
      "  y = column_or_1d(y, warn=True)\n"
     ]
    },
    {
     "name": "stdout",
     "output_type": "stream",
     "text": [
      "{'C': 100, 'degree': 4, 'epsilon': 0.01, 'kernel': 'poly'} 0.11128464870371249\n",
      "{'C': 100, 'degree': 4, 'epsilon': 0.01, 'kernel': 'rbf'} 0.13291957303320484\n"
     ]
    },
    {
     "name": "stderr",
     "output_type": "stream",
     "text": [
      "/home/hoangbaoan1901/anaconda3/envs/tf-env/lib/python3.12/site-packages/sklearn/utils/validation.py:1339: DataConversionWarning: A column-vector y was passed when a 1d array was expected. Please change the shape of y to (n_samples, ), for example using ravel().\n",
      "  y = column_or_1d(y, warn=True)\n",
      "/home/hoangbaoan1901/anaconda3/envs/tf-env/lib/python3.12/site-packages/sklearn/utils/validation.py:1339: DataConversionWarning: A column-vector y was passed when a 1d array was expected. Please change the shape of y to (n_samples, ), for example using ravel().\n",
      "  y = column_or_1d(y, warn=True)\n"
     ]
    },
    {
     "name": "stdout",
     "output_type": "stream",
     "text": [
      "{'C': 100, 'degree': 4, 'epsilon': 0.01, 'kernel': 'sigmoid'} 1194.0268530128872\n",
      "{'C': 100, 'degree': 4, 'epsilon': 0.1, 'kernel': 'linear'} 0.06509079947248915\n",
      "{'C': 100, 'degree': 4, 'epsilon': 0.1, 'kernel': 'poly'} 0.2672860150203561\n",
      "{'C': 100, 'degree': 4, 'epsilon': 0.1, 'kernel': 'rbf'} 0.1311273569816113\n"
     ]
    },
    {
     "name": "stderr",
     "output_type": "stream",
     "text": [
      "/home/hoangbaoan1901/anaconda3/envs/tf-env/lib/python3.12/site-packages/sklearn/utils/validation.py:1339: DataConversionWarning: A column-vector y was passed when a 1d array was expected. Please change the shape of y to (n_samples, ), for example using ravel().\n",
      "  y = column_or_1d(y, warn=True)\n",
      "/home/hoangbaoan1901/anaconda3/envs/tf-env/lib/python3.12/site-packages/sklearn/utils/validation.py:1339: DataConversionWarning: A column-vector y was passed when a 1d array was expected. Please change the shape of y to (n_samples, ), for example using ravel().\n",
      "  y = column_or_1d(y, warn=True)\n",
      "/home/hoangbaoan1901/anaconda3/envs/tf-env/lib/python3.12/site-packages/sklearn/utils/validation.py:1339: DataConversionWarning: A column-vector y was passed when a 1d array was expected. Please change the shape of y to (n_samples, ), for example using ravel().\n",
      "  y = column_or_1d(y, warn=True)\n",
      "/home/hoangbaoan1901/anaconda3/envs/tf-env/lib/python3.12/site-packages/sklearn/utils/validation.py:1339: DataConversionWarning: A column-vector y was passed when a 1d array was expected. Please change the shape of y to (n_samples, ), for example using ravel().\n",
      "  y = column_or_1d(y, warn=True)\n"
     ]
    },
    {
     "name": "stdout",
     "output_type": "stream",
     "text": [
      "{'C': 100, 'degree': 4, 'epsilon': 0.1, 'kernel': 'sigmoid'} 1194.2884435795293\n",
      "{'C': 100, 'degree': 4, 'epsilon': 0.2, 'kernel': 'linear'} 0.09375700005317189\n",
      "{'C': 100, 'degree': 4, 'epsilon': 0.2, 'kernel': 'poly'} 0.14811237817281514\n",
      "{'C': 100, 'degree': 4, 'epsilon': 0.2, 'kernel': 'rbf'} 0.1743694193247108\n"
     ]
    },
    {
     "name": "stderr",
     "output_type": "stream",
     "text": [
      "/home/hoangbaoan1901/anaconda3/envs/tf-env/lib/python3.12/site-packages/sklearn/utils/validation.py:1339: DataConversionWarning: A column-vector y was passed when a 1d array was expected. Please change the shape of y to (n_samples, ), for example using ravel().\n",
      "  y = column_or_1d(y, warn=True)\n",
      "/home/hoangbaoan1901/anaconda3/envs/tf-env/lib/python3.12/site-packages/sklearn/utils/validation.py:1339: DataConversionWarning: A column-vector y was passed when a 1d array was expected. Please change the shape of y to (n_samples, ), for example using ravel().\n",
      "  y = column_or_1d(y, warn=True)\n",
      "/home/hoangbaoan1901/anaconda3/envs/tf-env/lib/python3.12/site-packages/sklearn/utils/validation.py:1339: DataConversionWarning: A column-vector y was passed when a 1d array was expected. Please change the shape of y to (n_samples, ), for example using ravel().\n",
      "  y = column_or_1d(y, warn=True)\n",
      "/home/hoangbaoan1901/anaconda3/envs/tf-env/lib/python3.12/site-packages/sklearn/utils/validation.py:1339: DataConversionWarning: A column-vector y was passed when a 1d array was expected. Please change the shape of y to (n_samples, ), for example using ravel().\n",
      "  y = column_or_1d(y, warn=True)\n"
     ]
    },
    {
     "name": "stdout",
     "output_type": "stream",
     "text": [
      "{'C': 100, 'degree': 4, 'epsilon': 0.2, 'kernel': 'sigmoid'} 1193.823779373507\n",
      "{'C': 100, 'degree': 4, 'epsilon': 0.5, 'kernel': 'linear'} 0.2926233598162074\n",
      "{'C': 100, 'degree': 4, 'epsilon': 0.5, 'kernel': 'poly'} 0.2926233598162074\n",
      "{'C': 100, 'degree': 4, 'epsilon': 0.5, 'kernel': 'rbf'} 0.2926233598162074\n"
     ]
    },
    {
     "name": "stderr",
     "output_type": "stream",
     "text": [
      "/home/hoangbaoan1901/anaconda3/envs/tf-env/lib/python3.12/site-packages/sklearn/utils/validation.py:1339: DataConversionWarning: A column-vector y was passed when a 1d array was expected. Please change the shape of y to (n_samples, ), for example using ravel().\n",
      "  y = column_or_1d(y, warn=True)\n",
      "/home/hoangbaoan1901/anaconda3/envs/tf-env/lib/python3.12/site-packages/sklearn/utils/validation.py:1339: DataConversionWarning: A column-vector y was passed when a 1d array was expected. Please change the shape of y to (n_samples, ), for example using ravel().\n",
      "  y = column_or_1d(y, warn=True)\n",
      "/home/hoangbaoan1901/anaconda3/envs/tf-env/lib/python3.12/site-packages/sklearn/utils/validation.py:1339: DataConversionWarning: A column-vector y was passed when a 1d array was expected. Please change the shape of y to (n_samples, ), for example using ravel().\n",
      "  y = column_or_1d(y, warn=True)\n",
      "/home/hoangbaoan1901/anaconda3/envs/tf-env/lib/python3.12/site-packages/sklearn/utils/validation.py:1339: DataConversionWarning: A column-vector y was passed when a 1d array was expected. Please change the shape of y to (n_samples, ), for example using ravel().\n",
      "  y = column_or_1d(y, warn=True)\n"
     ]
    },
    {
     "name": "stdout",
     "output_type": "stream",
     "text": [
      "{'C': 100, 'degree': 4, 'epsilon': 0.5, 'kernel': 'sigmoid'} 0.2926233598162074\n"
     ]
    },
    {
     "name": "stderr",
     "output_type": "stream",
     "text": [
      "/home/hoangbaoan1901/anaconda3/envs/tf-env/lib/python3.12/site-packages/sklearn/utils/validation.py:1339: DataConversionWarning: A column-vector y was passed when a 1d array was expected. Please change the shape of y to (n_samples, ), for example using ravel().\n",
      "  y = column_or_1d(y, warn=True)\n"
     ]
    },
    {
     "name": "stdout",
     "output_type": "stream",
     "text": [
      "{'C': 100, 'degree': 5, 'epsilon': 0.01, 'kernel': 'linear'} 0.029505367733595418\n"
     ]
    },
    {
     "name": "stderr",
     "output_type": "stream",
     "text": [
      "/home/hoangbaoan1901/anaconda3/envs/tf-env/lib/python3.12/site-packages/sklearn/utils/validation.py:1339: DataConversionWarning: A column-vector y was passed when a 1d array was expected. Please change the shape of y to (n_samples, ), for example using ravel().\n",
      "  y = column_or_1d(y, warn=True)\n"
     ]
    },
    {
     "name": "stdout",
     "output_type": "stream",
     "text": [
      "{'C': 100, 'degree': 5, 'epsilon': 0.01, 'kernel': 'poly'} 0.12679029374574888\n",
      "{'C': 100, 'degree': 5, 'epsilon': 0.01, 'kernel': 'rbf'} 0.13291957303320484\n"
     ]
    },
    {
     "name": "stderr",
     "output_type": "stream",
     "text": [
      "/home/hoangbaoan1901/anaconda3/envs/tf-env/lib/python3.12/site-packages/sklearn/utils/validation.py:1339: DataConversionWarning: A column-vector y was passed when a 1d array was expected. Please change the shape of y to (n_samples, ), for example using ravel().\n",
      "  y = column_or_1d(y, warn=True)\n",
      "/home/hoangbaoan1901/anaconda3/envs/tf-env/lib/python3.12/site-packages/sklearn/utils/validation.py:1339: DataConversionWarning: A column-vector y was passed when a 1d array was expected. Please change the shape of y to (n_samples, ), for example using ravel().\n",
      "  y = column_or_1d(y, warn=True)\n"
     ]
    },
    {
     "name": "stdout",
     "output_type": "stream",
     "text": [
      "{'C': 100, 'degree': 5, 'epsilon': 0.01, 'kernel': 'sigmoid'} 1194.0268530128872\n",
      "{'C': 100, 'degree': 5, 'epsilon': 0.1, 'kernel': 'linear'} 0.06509079947248915\n",
      "{'C': 100, 'degree': 5, 'epsilon': 0.1, 'kernel': 'poly'} 0.3762707802881136\n",
      "{'C': 100, 'degree': 5, 'epsilon': 0.1, 'kernel': 'rbf'} 0.1311273569816113\n"
     ]
    },
    {
     "name": "stderr",
     "output_type": "stream",
     "text": [
      "/home/hoangbaoan1901/anaconda3/envs/tf-env/lib/python3.12/site-packages/sklearn/utils/validation.py:1339: DataConversionWarning: A column-vector y was passed when a 1d array was expected. Please change the shape of y to (n_samples, ), for example using ravel().\n",
      "  y = column_or_1d(y, warn=True)\n",
      "/home/hoangbaoan1901/anaconda3/envs/tf-env/lib/python3.12/site-packages/sklearn/utils/validation.py:1339: DataConversionWarning: A column-vector y was passed when a 1d array was expected. Please change the shape of y to (n_samples, ), for example using ravel().\n",
      "  y = column_or_1d(y, warn=True)\n",
      "/home/hoangbaoan1901/anaconda3/envs/tf-env/lib/python3.12/site-packages/sklearn/utils/validation.py:1339: DataConversionWarning: A column-vector y was passed when a 1d array was expected. Please change the shape of y to (n_samples, ), for example using ravel().\n",
      "  y = column_or_1d(y, warn=True)\n",
      "/home/hoangbaoan1901/anaconda3/envs/tf-env/lib/python3.12/site-packages/sklearn/utils/validation.py:1339: DataConversionWarning: A column-vector y was passed when a 1d array was expected. Please change the shape of y to (n_samples, ), for example using ravel().\n",
      "  y = column_or_1d(y, warn=True)\n"
     ]
    },
    {
     "name": "stdout",
     "output_type": "stream",
     "text": [
      "{'C': 100, 'degree': 5, 'epsilon': 0.1, 'kernel': 'sigmoid'} 1194.2884435795293\n",
      "{'C': 100, 'degree': 5, 'epsilon': 0.2, 'kernel': 'linear'} 0.09375700005317189\n",
      "{'C': 100, 'degree': 5, 'epsilon': 0.2, 'kernel': 'poly'} 0.20162716584478063\n",
      "{'C': 100, 'degree': 5, 'epsilon': 0.2, 'kernel': 'rbf'} 0.1743694193247108\n"
     ]
    },
    {
     "name": "stderr",
     "output_type": "stream",
     "text": [
      "/home/hoangbaoan1901/anaconda3/envs/tf-env/lib/python3.12/site-packages/sklearn/utils/validation.py:1339: DataConversionWarning: A column-vector y was passed when a 1d array was expected. Please change the shape of y to (n_samples, ), for example using ravel().\n",
      "  y = column_or_1d(y, warn=True)\n",
      "/home/hoangbaoan1901/anaconda3/envs/tf-env/lib/python3.12/site-packages/sklearn/utils/validation.py:1339: DataConversionWarning: A column-vector y was passed when a 1d array was expected. Please change the shape of y to (n_samples, ), for example using ravel().\n",
      "  y = column_or_1d(y, warn=True)\n",
      "/home/hoangbaoan1901/anaconda3/envs/tf-env/lib/python3.12/site-packages/sklearn/utils/validation.py:1339: DataConversionWarning: A column-vector y was passed when a 1d array was expected. Please change the shape of y to (n_samples, ), for example using ravel().\n",
      "  y = column_or_1d(y, warn=True)\n",
      "/home/hoangbaoan1901/anaconda3/envs/tf-env/lib/python3.12/site-packages/sklearn/utils/validation.py:1339: DataConversionWarning: A column-vector y was passed when a 1d array was expected. Please change the shape of y to (n_samples, ), for example using ravel().\n",
      "  y = column_or_1d(y, warn=True)\n"
     ]
    },
    {
     "name": "stdout",
     "output_type": "stream",
     "text": [
      "{'C': 100, 'degree': 5, 'epsilon': 0.2, 'kernel': 'sigmoid'} 1193.823779373507\n",
      "{'C': 100, 'degree': 5, 'epsilon': 0.5, 'kernel': 'linear'} 0.2926233598162074\n",
      "{'C': 100, 'degree': 5, 'epsilon': 0.5, 'kernel': 'poly'} 0.2926233598162074\n",
      "{'C': 100, 'degree': 5, 'epsilon': 0.5, 'kernel': 'rbf'} 0.2926233598162074\n"
     ]
    },
    {
     "name": "stderr",
     "output_type": "stream",
     "text": [
      "/home/hoangbaoan1901/anaconda3/envs/tf-env/lib/python3.12/site-packages/sklearn/utils/validation.py:1339: DataConversionWarning: A column-vector y was passed when a 1d array was expected. Please change the shape of y to (n_samples, ), for example using ravel().\n",
      "  y = column_or_1d(y, warn=True)\n",
      "/home/hoangbaoan1901/anaconda3/envs/tf-env/lib/python3.12/site-packages/sklearn/utils/validation.py:1339: DataConversionWarning: A column-vector y was passed when a 1d array was expected. Please change the shape of y to (n_samples, ), for example using ravel().\n",
      "  y = column_or_1d(y, warn=True)\n",
      "/home/hoangbaoan1901/anaconda3/envs/tf-env/lib/python3.12/site-packages/sklearn/utils/validation.py:1339: DataConversionWarning: A column-vector y was passed when a 1d array was expected. Please change the shape of y to (n_samples, ), for example using ravel().\n",
      "  y = column_or_1d(y, warn=True)\n",
      "/home/hoangbaoan1901/anaconda3/envs/tf-env/lib/python3.12/site-packages/sklearn/utils/validation.py:1339: DataConversionWarning: A column-vector y was passed when a 1d array was expected. Please change the shape of y to (n_samples, ), for example using ravel().\n",
      "  y = column_or_1d(y, warn=True)\n"
     ]
    },
    {
     "name": "stdout",
     "output_type": "stream",
     "text": [
      "{'C': 100, 'degree': 5, 'epsilon': 0.5, 'kernel': 'sigmoid'} 0.2926233598162074\n"
     ]
    }
   ],
   "source": [
    "import gc\n",
    "final_model = None\n",
    "best_score = 1000000000\n",
    "\n",
    "for param in param_grid:\n",
    "    model.set_params(**param)\n",
    "    model.fit(X_train_p2, Y_train_p2)\n",
    "    Y_pred = model.predict(X_test_p2)\n",
    "    score = root_mean_squared_error(Y_test_p2, Y_pred)\n",
    "    if score < best_score:\n",
    "        best_score = score\n",
    "        final_model = model\n",
    "        best_param = param\n",
    "    gc.collect()\n",
    "    print(param, score)"
   ]
  },
  {
   "cell_type": "code",
   "execution_count": 9,
   "metadata": {},
   "outputs": [
    {
     "name": "stdout",
     "output_type": "stream",
     "text": [
      "{'C': 10, 'degree': 2, 'epsilon': 0.01, 'kernel': 'linear'} 0.029397799374361846\n",
      "R2 score:  -3.026618009737235\n",
      "directional_accuracy:  49.171270718232044\n"
     ]
    },
    {
     "data": {
      "image/png": "[encoded data removed]",
      "text/plain": [
       "<Figure size 1400x700 with 1 Axes>"
      ]
     },
     "metadata": {},
     "output_type": "display_data"
    }
   ],
   "source": [
    "print(best_param, best_score)\n",
    "# plot prediction\n",
    "import matplotlib.pyplot as plt\n",
    "plt.figure(figsize=(14,7))\n",
    "plt.title(f\"XGBRegressor for period 2 - RMSE: {best_score}\")\n",
    "Y_pred = final_model.predict(X_test_p2)\n",
    "print(\"R2 score: \", r2_score(Y_test_p2, Y_pred))\n",
    "print(\"directional_accuracy: \", directional_accuracy(Y_test_p2, Y_pred))\n",
    "plt.plot(Y_test_p2, label=\"Actual\")\n",
    "plt.plot(Y_pred, label=\"Predicted\")\n",
    "plt.legend()\n",
    "plt.show()\n"
   ]
  }
 ],
 "metadata": {
  "kernelspec": {
   "display_name": "tf-env",
   "language": "python",
   "name": "python3"
  },
  "language_info": {
   "codemirror_mode": {
    "name": "ipython",
    "version": 3
   },
   "file_extension": ".py",
   "mimetype": "text/x-python",
   "name": "python",
   "nbconvert_exporter": "python",
   "pygments_lexer": "ipython3",
   "version": "3.12.4"
  }
 },
 "nbformat": 4,
 "nbformat_minor": 2
}
